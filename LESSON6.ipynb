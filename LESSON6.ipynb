{
 "cells": [
  {
   "cell_type": "markdown",
   "id": "2674494a-9f79-4855-8bee-ef70554e2937",
   "metadata": {},
   "source": [
    "# Review Question 1"
   ]
  },
  {
   "cell_type": "code",
   "execution_count": 17,
   "id": "8461e5c3-5ac9-4bb6-854a-adef9f3238fb",
   "metadata": {},
   "outputs": [],
   "source": [
    "class Dog:\n",
    "    def __init__(self, name, age, coat_color):\n",
    "        self.name = name\n",
    "        self.age = age\n",
    "        self.coat_color = coat_color\n",
    "    "
   ]
  },
  {
   "cell_type": "code",
   "execution_count": 14,
   "id": "0dfe5f54-3c8a-4762-aea9-2534e097c422",
   "metadata": {},
   "outputs": [],
   "source": [
    "philo = Dog(\"Philo\", 5, \"brown\")"
   ]
  },
  {
   "cell_type": "code",
   "execution_count": 16,
   "id": "5b7a6db1-12d2-4e9b-b56f-20574f2fc13e",
   "metadata": {},
   "outputs": [
    {
     "name": "stdout",
     "output_type": "stream",
     "text": [
      "Philo's coat is brown.\n"
     ]
    }
   ],
   "source": [
    "print(f\"{philo.name}'s coat is {philo.coat_color}.\")"
   ]
  },
  {
   "cell_type": "code",
   "execution_count": 18,
   "id": "5d84b34d-21cd-48ce-beae-376435f12e5d",
   "metadata": {},
   "outputs": [],
   "source": [
    "class Car:\n",
    "    def __init__(self, color, mileage):\n",
    "        self.color = color        \n",
    "        self.mileage = mileage"
   ]
  },
  {
   "cell_type": "code",
   "execution_count": 19,
   "id": "c782491d-4740-42a0-883a-c633924c57fa",
   "metadata": {},
   "outputs": [],
   "source": [
    "blue_car = Car(\"blue\", 20000)\n",
    "red_car = Car(\"red\", 30000)"
   ]
  },
  {
   "cell_type": "code",
   "execution_count": 20,
   "id": "0690771b-63d9-4e2f-bd8f-a593a379d1d4",
   "metadata": {},
   "outputs": [
    {
     "name": "stdout",
     "output_type": "stream",
     "text": [
      "The blue car has 20,000 miles.\n",
      "The red car has 30,000 miles.\n"
     ]
    }
   ],
   "source": [
    "print(f\"The {blue_car.color} car has {blue_car.mileage:,} miles.\")\n",
    "print(f\"The {red_car.color} car has {red_car.mileage:,} miles.\")"
   ]
  },
  {
   "cell_type": "code",
   "execution_count": 32,
   "id": "dd0c4252-97b2-4733-be5f-2e1fe2e50f0a",
   "metadata": {},
   "outputs": [],
   "source": [
    "class Car:\n",
    "    def __init__(self, color, mileage):\n",
    "        self.color = color\n",
    "        self.mileage = mileage\n",
    "    def drive(self, drive):\n",
    "        self.mileage += drive\n",
    "        "
   ]
  },
  {
   "cell_type": "code",
   "execution_count": 33,
   "id": "5721d199-abcf-42ec-a822-3cb41cfd0a30",
   "metadata": {},
   "outputs": [],
   "source": [
    "my_car = Car(\"blue\", 0)"
   ]
  },
  {
   "cell_type": "code",
   "execution_count": 34,
   "id": "1a2a920e-b0bb-476f-9542-d98779885d39",
   "metadata": {},
   "outputs": [],
   "source": [
    "my_car.drive(100)"
   ]
  },
  {
   "cell_type": "code",
   "execution_count": 35,
   "id": "70ef3d72-90d2-459c-a203-7bcc3637bcbc",
   "metadata": {},
   "outputs": [
    {
     "name": "stdout",
     "output_type": "stream",
     "text": [
      "The blue car now has 100 miles.\n"
     ]
    }
   ],
   "source": [
    "print(f\"The {my_car.color} car now has {my_car.mileage} miles.\")"
   ]
  },
  {
   "cell_type": "markdown",
   "id": "4fea4fd3-b525-480a-a3d4-f4d9c9bafc3f",
   "metadata": {},
   "source": [
    "# Review Question 2"
   ]
  },
  {
   "cell_type": "code",
   "execution_count": 36,
   "id": "a28f67be-2e1b-41fa-97aa-d661cd413f80",
   "metadata": {},
   "outputs": [],
   "source": [
    "class Dog:\n",
    "    species = \"Canis familiaris\"\n",
    "\n",
    "    def __init__(self, name, age):\n",
    "        self.name = name\n",
    "        self.age = age\n",
    "\n",
    "    def __str__(self):\n",
    "        return f\"{self.name} is {self.age} years old\"\n",
    "\n",
    "    def speak(self, sound):\n",
    "        return f\"{self.name} says {sound}\""
   ]
  },
  {
   "cell_type": "code",
   "execution_count": 37,
   "id": "08a3de8e-bc4f-461e-95c6-906e378586c4",
   "metadata": {},
   "outputs": [],
   "source": [
    "class GoldenRetriever(Dog):\n",
    "    def speak(self, sound=\"Bark\"):  \n",
    "        return super().speak(sound)"
   ]
  },
  {
   "cell_type": "code",
   "execution_count": 38,
   "id": "845efd1c-96eb-48f3-943d-0efcbad8449b",
   "metadata": {},
   "outputs": [],
   "source": [
    "gr = GoldenRetriever(\"Buddy\", 3)"
   ]
  },
  {
   "cell_type": "code",
   "execution_count": 39,
   "id": "3f3bb966-11c0-4619-b92d-1180d7193d34",
   "metadata": {},
   "outputs": [
    {
     "name": "stdout",
     "output_type": "stream",
     "text": [
      "Buddy is 3 years old\n",
      "Buddy says Bark\n",
      "Buddy says Woof\n"
     ]
    }
   ],
   "source": [
    "print(gr)                 \n",
    "print(gr.speak())         \n",
    "print(gr.speak(\"Woof\"))"
   ]
  },
  {
   "cell_type": "code",
   "execution_count": 40,
   "id": "563f47d2-c2dc-47cc-abf3-fe4a448526b0",
   "metadata": {},
   "outputs": [],
   "source": [
    "class Rectangle:\n",
    "    def __init__(self, length, width):\n",
    "        self.length = length\n",
    "        self.width = width\n",
    "\n",
    "    def area(self):\n",
    "        return self.length * self.width"
   ]
  },
  {
   "cell_type": "code",
   "execution_count": 42,
   "id": "f9fe49d0-7a0f-4808-935f-fcaa5ddb472c",
   "metadata": {},
   "outputs": [],
   "source": [
    "class Square(Rectangle):\n",
    "    def __init__(self, side_length):\n",
    "        super().__init__(side_length, side_length)"
   ]
  },
  {
   "cell_type": "code",
   "execution_count": 43,
   "id": "4ef610dc-e00d-4966-870a-dcd265e39b51",
   "metadata": {},
   "outputs": [],
   "source": [
    "sq = Square(4)"
   ]
  },
  {
   "cell_type": "code",
   "execution_count": 44,
   "id": "77ebfb05-e37f-48fc-8924-5c9f37d43625",
   "metadata": {},
   "outputs": [
    {
     "name": "stdout",
     "output_type": "stream",
     "text": [
      "The area of the square is: 16\n"
     ]
    }
   ],
   "source": [
    "print(\"The area of the square is:\", sq.area())"
   ]
  },
  {
   "cell_type": "code",
   "execution_count": null,
   "id": "dec84dd3-a2a6-4d5e-a0ef-771beb7a5628",
   "metadata": {},
   "outputs": [],
   "source": []
  }
 ],
 "metadata": {
  "kernelspec": {
   "display_name": "Python [conda env:base] *",
   "language": "python",
   "name": "conda-base-py"
  },
  "language_info": {
   "codemirror_mode": {
    "name": "ipython",
    "version": 3
   },
   "file_extension": ".py",
   "mimetype": "text/x-python",
   "name": "python",
   "nbconvert_exporter": "python",
   "pygments_lexer": "ipython3",
   "version": "3.13.5"
  }
 },
 "nbformat": 4,
 "nbformat_minor": 5
}
