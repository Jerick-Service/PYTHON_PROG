{
 "cells": [
  {
   "cell_type": "markdown",
   "id": "06dc4923-f9d2-48bb-90fe-db68e973747f",
   "metadata": {},
   "source": [
    "# Review Question 1"
   ]
  },
  {
   "cell_type": "code",
   "execution_count": 2,
   "id": "d2aba58f-529e-409b-9597-09e0aa1bafcb",
   "metadata": {},
   "outputs": [
    {
     "name": "stdout",
     "output_type": "stream",
     "text": [
      "25000000\n",
      "25000000\n"
     ]
    }
   ],
   "source": [
    "num1 = 25000000      \n",
    "num2 = 25_000_000    \n",
    "print(num1)\n",
    "print(num2)"
   ]
  },
  {
   "cell_type": "code",
   "execution_count": 4,
   "id": "562c6c96-4d0e-4d1b-82e3-12ee33774578",
   "metadata": {},
   "outputs": [
    {
     "name": "stdout",
     "output_type": "stream",
     "text": [
      "175000.0\n"
     ]
    }
   ],
   "source": [
    "num = 1.75e5\n",
    "print(num)"
   ]
  },
  {
   "cell_type": "code",
   "execution_count": 39,
   "id": "23e2e6e2-75a8-48d2-89b6-70506af48c91",
   "metadata": {},
   "outputs": [
    {
     "data": {
      "text/plain": [
       "inf"
      ]
     },
     "execution_count": 39,
     "metadata": {},
     "output_type": "execute_result"
    }
   ],
   "source": [
    "2e308"
   ]
  },
  {
   "cell_type": "markdown",
   "id": "5487f066-91f4-475b-8d21-6033c99b413d",
   "metadata": {},
   "source": [
    "# Exponent.py"
   ]
  },
  {
   "cell_type": "code",
   "execution_count": 13,
   "id": "ec3d7df8-46d9-4efc-8c75-0de343568216",
   "metadata": {},
   "outputs": [
    {
     "name": "stdin",
     "output_type": "stream",
     "text": [
      "Enter a number: 1.2\n",
      "Enter a exponent: 3\n"
     ]
    },
    {
     "name": "stdout",
     "output_type": "stream",
     "text": [
      "1.7279999999999998\n"
     ]
    }
   ],
   "source": [
    "number = float(input(\"Enter a number:\"))\n",
    "exponent = float(input(\"Enter a exponent:\"))\n",
    "answer = number ** exponent\n",
    "print(answer)\n"
   ]
  },
  {
   "cell_type": "markdown",
   "id": "3f3730a9-9c3c-4517-8a2d-04e07d730d3b",
   "metadata": {},
   "source": [
    "# Review Question 2"
   ]
  },
  {
   "cell_type": "code",
   "execution_count": 14,
   "id": "dd676655-eead-49e1-b648-b1054921144e",
   "metadata": {},
   "outputs": [
    {
     "name": "stdin",
     "output_type": "stream",
     "text": [
      "Enter a number: 2.123\n"
     ]
    },
    {
     "name": "stdout",
     "output_type": "stream",
     "text": [
      "2.12\n"
     ]
    }
   ],
   "source": [
    "number = float(input(\"Enter a number:\"))\n",
    "round_number = round(number ,2)\n",
    "print(round_number)"
   ]
  },
  {
   "cell_type": "code",
   "execution_count": 19,
   "id": "5089dd4b-6c07-42da-9233-5ff296bc131e",
   "metadata": {},
   "outputs": [
    {
     "name": "stdin",
     "output_type": "stream",
     "text": [
      "Enter a number: -10\n"
     ]
    },
    {
     "name": "stdout",
     "output_type": "stream",
     "text": [
      "10.0\n"
     ]
    }
   ],
   "source": [
    "number = float(input(\"Enter a number:\"))\n",
    "abs_number = abs(number)\n",
    "print(abs_number)"
   ]
  },
  {
   "cell_type": "markdown",
   "id": "ce9f6dc3-039d-4a70-a9f2-244f015e70cb",
   "metadata": {},
   "source": [
    "# Review Question 3"
   ]
  },
  {
   "cell_type": "code",
   "execution_count": 23,
   "id": "aada34a9-4a16-4da1-a1a0-511c6cbced03",
   "metadata": {},
   "outputs": [
    {
     "name": "stdin",
     "output_type": "stream",
     "text": [
      "Enter a number : 1.5\n",
      "Enter another number : .5\n"
     ]
    },
    {
     "name": "stdout",
     "output_type": "stream",
     "text": [
      "The difference between 1.5 and 0.5 is an integer? True!\n"
     ]
    }
   ],
   "source": [
    "number1 = float(input(\"Enter a number :\"))\n",
    "number2 = float(input(\"Enter another number :\"))\n",
    "\n",
    "difference = number1 - number2\n",
    "is_integer = difference.is_integer()\n",
    "\n",
    "print(f\"The difference between {number1} and {number2} is an integer? {is_integer}!\")\n"
   ]
  },
  {
   "cell_type": "code",
   "execution_count": 24,
   "id": "6f82e1b2-aa48-43ca-97f6-fd502aaac128",
   "metadata": {},
   "outputs": [
    {
     "name": "stdin",
     "output_type": "stream",
     "text": [
      "Enter a number : 1.5\n",
      "Enter another number : 1\n"
     ]
    },
    {
     "name": "stdout",
     "output_type": "stream",
     "text": [
      "The difference between 1.5 and 1.0 is an integer? False!\n"
     ]
    }
   ],
   "source": [
    "number1 = float(input(\"Enter a number :\"))\n",
    "number2 = float(input(\"Enter another number :\"))\n",
    "\n",
    "difference = number1 - number2\n",
    "is_integer = difference.is_integer()\n",
    "\n",
    "print(f\"The difference between {number1} and {number2} is an integer? {is_integer}!\")\n"
   ]
  },
  {
   "cell_type": "markdown",
   "id": "9c4b33ef-b2be-419e-acdd-0f56db369feb",
   "metadata": {},
   "source": [
    "# Review Question 4"
   ]
  },
  {
   "cell_type": "code",
   "execution_count": 37,
   "id": "04abc564-ede9-428a-a7c0-a2f611e04835",
   "metadata": {},
   "outputs": [
    {
     "name": "stdout",
     "output_type": "stream",
     "text": [
      "436673502879206746811057139450516757414498529978705564925952.000\n"
     ]
    }
   ],
   "source": [
    "num1 = 3 ** 125\n",
    "print(f\"{num1:.3f}\")"
   ]
  },
  {
   "cell_type": "code",
   "execution_count": 36,
   "id": "ba73b296-352f-4cb8-9534-c776d526beb2",
   "metadata": {},
   "outputs": [
    {
     "name": "stdout",
     "output_type": "stream",
     "text": [
      "₱150,000.00\n"
     ]
    }
   ],
   "source": [
    "num = 150000\n",
    "print(f\"₱{num:,.2f}\")\n"
   ]
  },
  {
   "cell_type": "code",
   "execution_count": 38,
   "id": "ba03bdc9-8fcc-4129-b5cb-53ceb30e0f69",
   "metadata": {},
   "outputs": [
    {
     "name": "stdout",
     "output_type": "stream",
     "text": [
      "20%\n"
     ]
    }
   ],
   "source": [
    "result = 2 / 10\n",
    "print(f\"{result:.0%}\")"
   ]
  },
  {
   "cell_type": "code",
   "execution_count": null,
   "id": "8ee8e8c0-9266-4f3d-9e92-e263ddd0c387",
   "metadata": {},
   "outputs": [],
   "source": []
  }
 ],
 "metadata": {
  "kernelspec": {
   "display_name": "Python [conda env:base] *",
   "language": "python",
   "name": "conda-base-py"
  },
  "language_info": {
   "codemirror_mode": {
    "name": "ipython",
    "version": 3
   },
   "file_extension": ".py",
   "mimetype": "text/x-python",
   "name": "python",
   "nbconvert_exporter": "python",
   "pygments_lexer": "ipython3",
   "version": "3.13.5"
  }
 },
 "nbformat": 4,
 "nbformat_minor": 5
}
