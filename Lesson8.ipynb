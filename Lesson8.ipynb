{
 "cells": [
  {
   "cell_type": "markdown",
   "id": "a777226d-c01a-4c30-bec7-67e40c09c0b6",
   "metadata": {},
   "source": [
    "# Review Question 1"
   ]
  },
  {
   "cell_type": "code",
   "execution_count": 18,
   "id": "a77bf269-accb-41a9-b92d-57cf7a659d48",
   "metadata": {},
   "outputs": [
    {
     "name": "stdout",
     "output_type": "stream",
     "text": [
      "Target folder: C:\\Users\\PC\\my_folder\n"
     ]
    }
   ],
   "source": [
    "from pathlib import Path\n",
    "\n",
    "file_path = Path.home() / \"my_folder\" / \"my_file.txt\"\n",
    "\n",
    "file_path"
   ]
  },
  {
   "cell_type": "code",
   "execution_count": 25,
   "id": "2889e11f-1db6-4c19-96cc-a6a3f1f390c6",
   "metadata": {},
   "outputs": [
    {
     "data": {
      "text/plain": [
       "False"
      ]
     },
     "execution_count": 25,
     "metadata": {},
     "output_type": "execute_result"
    }
   ],
   "source": [
    "file_path.exists()"
   ]
  },
  {
   "cell_type": "code",
   "execution_count": 21,
   "id": "c2ce02b9-e645-4058-9ab6-afc87a10c7d4",
   "metadata": {},
   "outputs": [
    {
     "name": "stdout",
     "output_type": "stream",
     "text": [
      "File name: my_file.txt\n",
      "Parent folder: my_folder\n"
     ]
    }
   ],
   "source": [
    "print(\"File name:\", file_path.name)      \n",
    "print(\"Parent folder:\", file_path.parent.name)"
   ]
  },
  {
   "cell_type": "code",
   "execution_count": 4,
   "id": "8b511aa8-1450-4b2c-91e0-73a66f4bc809",
   "metadata": {},
   "outputs": [
    {
     "name": "stdout",
     "output_type": "stream",
     "text": [
      "Now exists? True\n"
     ]
    }
   ],
   "source": [
    "file_path.parent.mkdir(parents=True, exist_ok=True)\n",
    "\n",
    "file_path.write_text(\"Hello from JupyterLab!\\n\")\n",
    "\n",
    "\n",
    "print(\"Now exists?\", file_path.exists())"
   ]
  },
  {
   "cell_type": "code",
   "execution_count": 5,
   "id": "3da0d1c1-490f-43f8-af08-32481a03cf57",
   "metadata": {},
   "outputs": [
    {
     "name": "stdout",
     "output_type": "stream",
     "text": [
      "Hello from JupyterLab!\n",
      "\n"
     ]
    }
   ],
   "source": [
    "print(file_path.read_text())"
   ]
  },
  {
   "cell_type": "markdown",
   "id": "75d70ee2-f3b2-42c3-aa11-a3b483a612cf",
   "metadata": {},
   "source": [
    "# Review Question 2"
   ]
  },
  {
   "cell_type": "code",
   "execution_count": 10,
   "id": "3f8c47dc-49ac-4399-bcc2-5a5051b27808",
   "metadata": {},
   "outputs": [
    {
     "name": "stdout",
     "output_type": "stream",
     "text": [
      "Folder created: C:\\Users\\PC\\my_folder\n"
     ]
    }
   ],
   "source": [
    "from pathlib import Path\n",
    "\n",
    "my_folder = Path.home() / \"my_folder\"\n",
    "my_folder.mkdir(exist_ok=True)\n",
    "print(\"Folder created:\", my_folder)"
   ]
  },
  {
   "cell_type": "code",
   "execution_count": 22,
   "id": "9814ce44-9856-4776-b8ac-41b8af91f712",
   "metadata": {},
   "outputs": [
    {
     "name": "stdout",
     "output_type": "stream",
     "text": [
      "Folder not found.\n"
     ]
    }
   ],
   "source": [
    "if my_folder.exists():\n",
    "\n",
    "    for path in sorted(my_folder.rglob(\"*\"), key=lambda p: -len(str(p))):\n",
    "        if path.is_file():\n",
    "            path.unlink()\n",
    "            print(\"Deleted file:\", path)\n",
    "        elif path.is_dir():\n",
    "            try:\n",
    "                path.rmdir()\n",
    "                print(\"Deleted empty dir:\", path)\n",
    "            except OSError:\n",
    "                print(\"Could not delete (not empty):\", path)\n",
    "    try:\n",
    "        my_folder.rmdir()\n",
    "        print(\"Deleted folder:\", my_folder)\n",
    "    except OSError as e:\n",
    "        print(\"Could not delete folder:\", e)\n",
    "else:\n",
    "    print(\"Folder not found.\")"
   ]
  },
  {
   "cell_type": "code",
   "execution_count": 13,
   "id": "2cb3f6ac-a456-44f1-b53c-366211e6273e",
   "metadata": {},
   "outputs": [
    {
     "name": "stdout",
     "output_type": "stream",
     "text": [
      "Moved image to: C:\\Users\\PC\\my_folder\\images\\image1.png\n"
     ]
    }
   ],
   "source": [
    "images_folder = my_folder / \"images\"\n",
    "images_folder.mkdir(exist_ok=True)\n",
    "\n",
    "new_image_path = images_folder / image1.name\n",
    "image1.rename(new_image_path)\n",
    "\n",
    "print(\"Moved image to:\", new_image_path)"
   ]
  },
  {
   "cell_type": "code",
   "execution_count": 23,
   "id": "e799219c-eeea-4b01-85d6-3ea944a0dbf9",
   "metadata": {},
   "outputs": [
    {
     "name": "stdin",
     "output_type": "stream",
     "text": [
      "Type YES to permanently delete 'C:\\Users\\PC\\my_folder' :  yes\n"
     ]
    },
    {
     "name": "stdout",
     "output_type": "stream",
     "text": [
      "Aborted by user. No changes made.\n"
     ]
    }
   ],
   "source": [
    "confirm = input(\"Type YES to permanently delete '{}' : \".format(my_folder))\n",
    "if confirm == \"YES\":\n",
    "    if my_folder.exists():\n",
    "        try:\n",
    "            shutil.rmtree(my_folder)\n",
    "            print(\"Permanently deleted:\", my_folder)\n",
    "        except Exception as e:\n",
    "            print(\"Error deleting folder:\", e)\n",
    "    else:\n",
    "        print(\"Folder does not exist.\")\n",
    "else:\n",
    "    print(\"Aborted by user. No changes made.\")"
   ]
  },
  {
   "cell_type": "code",
   "execution_count": 24,
   "id": "2b6919c1-4b3d-4392-bef0-8091e2b99bee",
   "metadata": {},
   "outputs": [
    {
     "name": "stdout",
     "output_type": "stream",
     "text": [
      "Exists after operation?: False\n"
     ]
    }
   ],
   "source": [
    "print(\"Exists after operation?:\", my_folder.exists())"
   ]
  },
  {
   "cell_type": "markdown",
   "id": "691d196f-9b69-4fda-9d29-ca9717e2e23b",
   "metadata": {},
   "source": [
    "# Review Question 3"
   ]
  },
  {
   "cell_type": "code",
   "execution_count": 26,
   "id": "e93c5071-669b-4983-950d-946eac7bbff1",
   "metadata": {},
   "outputs": [
    {
     "name": "stdout",
     "output_type": "stream",
     "text": [
      "Target file: C:\\Users\\PC\\starships.txt\n"
     ]
    }
   ],
   "source": [
    "from pathlib import Path\n",
    "\n",
    "# file in your home directory\n",
    "star_file = Path.home() / \"starships.txt\"\n",
    "print(\"Target file:\", star_file)"
   ]
  },
  {
   "cell_type": "code",
   "execution_count": 27,
   "id": "3a16de86-9113-46ac-be67-ebc1f35910df",
   "metadata": {},
   "outputs": [
    {
     "name": "stdout",
     "output_type": "stream",
     "text": [
      "Wrote 4 lines to starships.txt\n"
     ]
    }
   ],
   "source": [
    "lines = [\"DISCOVERY\", \"ENTERPRISE\", \"DEFIANT\", \"VOYAGER\"]\n",
    "\n",
    "# write lines joined by newline\n",
    "star_file.write_text(\"\\n\".join(lines) + \"\\n\")  # final \\n is optional but common\n",
    "\n",
    "print(\"Wrote\", len(lines), \"lines to\", star_file.name)"
   ]
  },
  {
   "cell_type": "code",
   "execution_count": 28,
   "id": "9fafe8fb-a0c5-4a25-850b-5ed32ef55afc",
   "metadata": {},
   "outputs": [
    {
     "name": "stdout",
     "output_type": "stream",
     "text": [
      "DISCOVERY\n",
      "ENTERPRISE\n",
      "DEFIANT\n",
      "VOYAGER\n"
     ]
    }
   ],
   "source": [
    "for line in star_file.read_text().splitlines():\n",
    "    print(line)"
   ]
  },
  {
   "cell_type": "code",
   "execution_count": 29,
   "id": "9e0c0483-9127-4f90-a6f7-06cb5ed37f11",
   "metadata": {},
   "outputs": [
    {
     "name": "stdout",
     "output_type": "stream",
     "text": [
      "DISCOVERY\n",
      "DEFIANT\n"
     ]
    }
   ],
   "source": [
    "for line in star_file.read_text().splitlines():\n",
    "    if line.startswith(\"D\"):\n",
    "        print(line)"
   ]
  },
  {
   "cell_type": "markdown",
   "id": "20fb810d-4bf3-4b14-99fe-b7c8d59b8b08",
   "metadata": {},
   "source": [
    "# Review Question 3"
   ]
  },
  {
   "cell_type": "code",
   "execution_count": 31,
   "id": "27a1f993-ca07-4d66-bf82-fc5f1b0dd0c5",
   "metadata": {},
   "outputs": [
    {
     "name": "stdout",
     "output_type": "stream",
     "text": [
      "numbers.csv created at: C:\\Users\\PC\\numbers.csv\n"
     ]
    }
   ],
   "source": [
    "import csv\n",
    "from pathlib import Path\n",
    "\n",
    "numbers = [\n",
    "    [1, 2, 3, 4, 5],\n",
    "    [6, 7, 8, 9, 10],\n",
    "    [11, 12, 13, 14, 15],\n",
    "]\n",
    "\n",
    "csv_path = Path.home() / \"numbers.csv\"\n",
    "\n",
    "with open(csv_path, mode=\"w\", newline=\"\") as file:\n",
    "    writer = csv.writer(file)\n",
    "    writer.writerows(numbers)\n",
    "\n",
    "print(f\"numbers.csv created at: {csv_path}\")"
   ]
  },
  {
   "cell_type": "code",
   "execution_count": 32,
   "id": "18fe0f34-1cef-45ce-97ad-2f6ecc196e96",
   "metadata": {},
   "outputs": [
    {
     "name": "stdout",
     "output_type": "stream",
     "text": [
      "Numbers list of lists:\n",
      "[[1, 2, 3, 4, 5], [6, 7, 8, 9, 10], [11, 12, 13, 14, 15]]\n"
     ]
    }
   ],
   "source": [
    "import csv\n",
    "from pathlib import Path\n",
    "\n",
    "csv_path = Path.home() / \"numbers.csv\"\n",
    "\n",
    "numbers = []\n",
    "with open(csv_path, mode=\"r\") as file:\n",
    "    reader = csv.reader(file)\n",
    "    for row in reader:\n",
    "        \n",
    "        numbers.append([int(num) for num in row])\n",
    "\n",
    "print(\"Numbers list of lists:\")\n",
    "print(numbers)"
   ]
  },
  {
   "cell_type": "code",
   "execution_count": 33,
   "id": "0640b004-a3ba-4619-b93d-a78c98e07033",
   "metadata": {},
   "outputs": [],
   "source": [
    "# Exercise 3\n",
    "\n",
    "import csv\n",
    "from pathlib import Path\n",
    "\n",
    "# Create list of dictionaries\n",
    "favorite_colors = [\n",
    "    {\"name\": \"Joe\", \"favorite_color\": \"blue\"},\n",
    "    {\"name\": \"Anne\", \"favorite_color\": \"green\"},\n",
    "    {\"name\": \"Bailey\", \"favorite_color\": \"red\"},\n",
    "]"
   ]
  },
  {
   "cell_type": "code",
   "execution_count": 34,
   "id": "10f918c5-347f-4cd2-b762-b7c6606969b1",
   "metadata": {},
   "outputs": [],
   "source": [
    "csv_path = Path.home() / \"favorite_colors.csv\""
   ]
  },
  {
   "cell_type": "code",
   "execution_count": 35,
   "id": "12581721-ef51-40e1-8809-d526efe959c6",
   "metadata": {},
   "outputs": [
    {
     "name": "stdout",
     "output_type": "stream",
     "text": [
      "favorite_colors.csv created at: C:\\Users\\PC\\favorite_colors.csv\n"
     ]
    }
   ],
   "source": [
    "with open(csv_path, mode=\"w\", newline=\"\") as file:\n",
    "    writer = csv.DictWriter(file, fieldnames=[\"name\", \"favorite_color\"])\n",
    "    writer.writeheader()  # Write the header row\n",
    "    writer.writerows(favorite_colors)  # Write all rows\n",
    "\n",
    "print(f\"favorite_colors.csv created at: {csv_path}\")"
   ]
  },
  {
   "cell_type": "code",
   "execution_count": 36,
   "id": "d455d6b6-18fe-47bd-b275-0cbc2dd0d830",
   "metadata": {},
   "outputs": [
    {
     "name": "stdout",
     "output_type": "stream",
     "text": [
      "name,favorite_color\n",
      "Joe,blue\n",
      "Anne,green\n",
      "Bailey,red\n",
      "\n"
     ]
    }
   ],
   "source": [
    "with open(csv_path, mode=\"r\") as file:\n",
    "    print(file.read())"
   ]
  },
  {
   "cell_type": "code",
   "execution_count": 37,
   "id": "3deff640-b44c-4242-843a-82e63561a64d",
   "metadata": {},
   "outputs": [],
   "source": [
    "import csv\n",
    "from pathlib import Path\n",
    "\n",
    "# Path to the CSV file in your home directory\n",
    "csv_path = Path.home() / \"favorite_colors.csv\""
   ]
  },
  {
   "cell_type": "code",
   "execution_count": 38,
   "id": "0d06ccec-fe60-429b-b615-e91e20b48618",
   "metadata": {},
   "outputs": [],
   "source": [
    "with open(csv_path, mode=\"r\") as file:\n",
    "    reader = csv.DictReader(file)\n",
    "    for row in reader:\n",
    "        favorite_colors.append(row)"
   ]
  },
  {
   "cell_type": "code",
   "execution_count": 39,
   "id": "3577ee82-1303-43e2-8a15-87c8e00e8fc1",
   "metadata": {},
   "outputs": [
    {
     "name": "stdout",
     "output_type": "stream",
     "text": [
      "[{'name': 'Joe', 'favorite_color': 'blue'}, {'name': 'Anne', 'favorite_color': 'green'}, {'name': 'Bailey', 'favorite_color': 'red'}, {'name': 'Joe', 'favorite_color': 'blue'}, {'name': 'Anne', 'favorite_color': 'green'}, {'name': 'Bailey', 'favorite_color': 'red'}]\n"
     ]
    }
   ],
   "source": [
    "print(favorite_colors)"
   ]
  },
  {
   "cell_type": "code",
   "execution_count": null,
   "id": "74d98504-2630-437e-adb1-4833dc076722",
   "metadata": {},
   "outputs": [],
   "source": []
  }
 ],
 "metadata": {
  "kernelspec": {
   "display_name": "Python [conda env:base] *",
   "language": "python",
   "name": "conda-base-py"
  },
  "language_info": {
   "codemirror_mode": {
    "name": "ipython",
    "version": 3
   },
   "file_extension": ".py",
   "mimetype": "text/x-python",
   "name": "python",
   "nbconvert_exporter": "python",
   "pygments_lexer": "ipython3",
   "version": "3.13.5"
  }
 },
 "nbformat": 4,
 "nbformat_minor": 5
}
