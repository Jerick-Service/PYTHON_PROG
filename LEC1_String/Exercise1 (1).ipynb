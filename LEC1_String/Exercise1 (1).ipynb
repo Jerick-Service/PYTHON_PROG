{
 "cells": [
  {
   "cell_type": "markdown",
   "id": "710dcc6e-ac3a-4524-9a7c-fb4faef2b3cc",
   "metadata": {},
   "source": [
    "# Review Question 1"
   ]
  },
  {
   "cell_type": "code",
   "execution_count": 1,
   "id": "be962fea-e79f-47b3-986a-b06a4883acc9",
   "metadata": {},
   "outputs": [
    {
     "data": {
      "text/plain": [
       "13"
      ]
     },
     "execution_count": 1,
     "metadata": {},
     "output_type": "execute_result"
    }
   ],
   "source": [
    "String = \"Jerick Sebise\"\n",
    "len(String)"
   ]
  },
  {
   "cell_type": "code",
   "execution_count": 2,
   "id": "927f9c2c-62e8-4918-84bf-b0963855b0cc",
   "metadata": {},
   "outputs": [
    {
     "data": {
      "text/plain": [
       "'JerickSerbise'"
      ]
     },
     "execution_count": 2,
     "metadata": {},
     "output_type": "execute_result"
    }
   ],
   "source": [
    "String1 = \"Jerick\"\n",
    "String2 = \"Serbise\"\n",
    "FullName = String1 + String2\n",
    "FullName"
   ]
  },
  {
   "cell_type": "code",
   "execution_count": 3,
   "id": "d62e511b-1f09-4a6c-ad19-24fce5c461e8",
   "metadata": {},
   "outputs": [
    {
     "data": {
      "text/plain": [
       "'Jerick Serbise'"
      ]
     },
     "execution_count": 3,
     "metadata": {},
     "output_type": "execute_result"
    }
   ],
   "source": [
    "String1 = \"Jerick\"\n",
    "String2 = \"Serbise\"\n",
    "FullName = String1+\" \"+String2\n",
    "FullName"
   ]
  },
  {
   "cell_type": "code",
   "execution_count": 8,
   "id": "85c7ba1a-b623-44d0-9621-871033013000",
   "metadata": {},
   "outputs": [
    {
     "data": {
      "text/plain": [
       "'Fox'"
      ]
     },
     "execution_count": 8,
     "metadata": {},
     "output_type": "execute_result"
    }
   ],
   "source": [
    "String = \"The quick brown Fox jump over the lazy dog. #123456789!\"\n",
    "String [16:19]"
   ]
  },
  {
   "cell_type": "markdown",
   "id": "f6a29f3d-bbbe-4b12-9964-0dfc53e9a609",
   "metadata": {},
   "source": [
    "# Review Question 2"
   ]
  },
  {
   "cell_type": "code",
   "execution_count": 17,
   "id": "a25e8ca4-9925-4f3b-a109-f84dffb1de4d",
   "metadata": {},
   "outputs": [
    {
     "name": "stdout",
     "output_type": "stream",
     "text": [
      "animal\n",
      "badger\n",
      "honeybee\n",
      "honeybadger\n"
     ]
    }
   ],
   "source": [
    "String1 = \"Animal Badger Honeybee Honeybadger\"\n",
    "NewWord = String1.lower()\n",
    "Words = NewWord.split()\n",
    "\n",
    "for word in Words:\n",
    "    print(word)\n",
    "\n",
    "\n"
   ]
  },
  {
   "cell_type": "code",
   "execution_count": 18,
   "id": "a9e4a6b8-3322-4821-910e-14ea57649841",
   "metadata": {},
   "outputs": [
    {
     "name": "stdout",
     "output_type": "stream",
     "text": [
      "ANIMAL\n",
      "BADGER\n",
      "HONEYBEE\n",
      "HONEYBADGER\n"
     ]
    }
   ],
   "source": [
    "String1 = \"Animal Badger Honeybee Honeybadger\"\n",
    "NewWord = String1.upper()\n",
    "Words = NewWord.split()\n",
    "\n",
    "for word in Words:\n",
    "    print(word)"
   ]
  },
  {
   "cell_type": "code",
   "execution_count": 19,
   "id": "1a13186a-d889-48ad-8304-bf5168d7422a",
   "metadata": {},
   "outputs": [
    {
     "name": "stdout",
     "output_type": "stream",
     "text": [
      "filletmignon\n",
      "Brisket\n"
     ]
    }
   ],
   "source": [
    "string1 =\" filletmignon\"\n",
    "string2 =\"Brisket \"\n",
    "print(string1.lstrip())\n",
    "print(string2.rstrip())"
   ]
  },
  {
   "cell_type": "code",
   "execution_count": 20,
   "id": "de17158d-cb25-4a5a-8d87-81262cc3a213",
   "metadata": {},
   "outputs": [
    {
     "name": "stdout",
     "output_type": "stream",
     "text": [
      "False\n",
      "True\n"
     ]
    }
   ],
   "source": [
    "string3=\"Becomes\"\n",
    "string4=\"becomes\"\n",
    "print(string3.startswith('be'))\n",
    "print(string4.startswith('be'))"
   ]
  },
  {
   "cell_type": "code",
   "execution_count": 21,
   "id": "3b405f49-58bb-4cad-be64-3372c265e86f",
   "metadata": {},
   "outputs": [
    {
     "name": "stdout",
     "output_type": "stream",
     "text": [
      "True\n",
      "False\n"
     ]
    }
   ],
   "source": [
    "string3=\"Becomes\"\n",
    "string4=\"becomes\"\n",
    "print(string3.startswith('Be'))\n",
    "print(string4.startswith('Be'))"
   ]
  },
  {
   "cell_type": "markdown",
   "id": "ec229c11-5be2-43d5-8faf-c18ef37fd8fa",
   "metadata": {},
   "source": [
    "# Review Question 3"
   ]
  },
  {
   "cell_type": "code",
   "execution_count": 26,
   "id": "8f300109-690c-4e9e-8213-1cf8344af8f0",
   "metadata": {},
   "outputs": [
    {
     "name": "stdin",
     "output_type": "stream",
     "text": [
      "What is your favorite sports?  basketball\n"
     ]
    },
    {
     "name": "stdout",
     "output_type": "stream",
     "text": [
      "wow your favorite sport is basketball\n"
     ]
    }
   ],
   "source": [
    "player = \"What is your favorite sports? \"\n",
    "print(\"wow your favorite sport is \" + input(player))"
   ]
  },
  {
   "cell_type": "code",
   "execution_count": 27,
   "id": "526a77cc-2bd3-4d9e-bdde-1fd51bac1663",
   "metadata": {},
   "outputs": [
    {
     "name": "stdin",
     "output_type": "stream",
     "text": [
      "What is your Firstname?  Jerick GWapo\n"
     ]
    },
    {
     "name": "stdout",
     "output_type": "stream",
     "text": [
      "jerick gwapo\n"
     ]
    }
   ],
   "source": [
    "firstname = \"What is your Firstname? \"\n",
    "newword = input(firstname)\n",
    "print(newword.lower())"
   ]
  },
  {
   "cell_type": "code",
   "execution_count": 28,
   "id": "e907cb42-68c8-41bf-ba36-542d689f73c9",
   "metadata": {},
   "outputs": [
    {
     "name": "stdin",
     "output_type": "stream",
     "text": [
      "Feeling What?  nervous\n"
     ]
    },
    {
     "name": "stdout",
     "output_type": "stream",
     "text": [
      "7\n"
     ]
    }
   ],
   "source": [
    "string1 = \"Feeling What? \"\n",
    "newstring = input(string1)\n",
    "print(len(newstring))"
   ]
  },
  {
   "cell_type": "markdown",
   "id": "0b3e9648-ce31-4627-b583-14280dd37630",
   "metadata": {},
   "source": [
    "# Review Question 4"
   ]
  },
  {
   "cell_type": "code",
   "execution_count": 30,
   "id": "b820b84c-13ce-4d99-b6d6-c1b0bc4fbe44",
   "metadata": {},
   "outputs": [
    {
     "name": "stdin",
     "output_type": "stream",
     "text": [
      "what is your hobby:  ere\n"
     ]
    },
    {
     "name": "stdout",
     "output_type": "stream",
     "text": [
      "E\n"
     ]
    }
   ],
   "source": [
    "word = \"what is your hobby: \"\n",
    "first = input(word)\n",
    "firstoffirst = first[0]\n",
    "print(firstoffirst.upper())"
   ]
  },
  {
   "cell_type": "markdown",
   "id": "369ccc0b-045b-4b80-a28f-ad6e7ebb84b4",
   "metadata": {},
   "source": [
    "# Review Question 5"
   ]
  },
  {
   "cell_type": "code",
   "execution_count": 35,
   "id": "8ef14ff8-19f9-498c-a6a5-95e352b45a2f",
   "metadata": {},
   "outputs": [
    {
     "data": {
      "text/plain": [
       "60"
      ]
     },
     "execution_count": 35,
     "metadata": {},
     "output_type": "execute_result"
    }
   ],
   "source": [
    "string = \"20\"\n",
    "string2 = int(string)\n",
    "result = 3 * string2\n",
    "result"
   ]
  },
  {
   "cell_type": "code",
   "execution_count": 34,
   "id": "0fa26f66-86ae-4329-867c-47dd7b3068ff",
   "metadata": {},
   "outputs": [
    {
     "data": {
      "text/plain": [
       "66.0"
      ]
     },
     "execution_count": 34,
     "metadata": {},
     "output_type": "execute_result"
    }
   ],
   "source": [
    "string = \"20\"\n",
    "string2 = float(string)\n",
    "result = 3.3 * string2\n",
    "result"
   ]
  },
  {
   "cell_type": "code",
   "execution_count": 36,
   "id": "979f95c0-2fb9-4e29-ab4a-e39312927375",
   "metadata": {},
   "outputs": [
    {
     "data": {
      "text/plain": [
       "'88'"
      ]
     },
     "execution_count": 36,
     "metadata": {},
     "output_type": "execute_result"
    }
   ],
   "source": [
    "string = \"8\"\n",
    "string1 = 8\n",
    "result = str(string1)\n",
    "string + result"
   ]
  },
  {
   "cell_type": "code",
   "execution_count": 37,
   "id": "cff82ae7-26ef-4cbd-8797-50703db3375b",
   "metadata": {},
   "outputs": [
    {
     "name": "stdin",
     "output_type": "stream",
     "text": [
      " First number:  8\n",
      " Second number:  8\n"
     ]
    },
    {
     "data": {
      "text/plain": [
       "64"
      ]
     },
     "execution_count": 37,
     "metadata": {},
     "output_type": "execute_result"
    }
   ],
   "source": [
    "Firstnum = input(\" First number: \")\n",
    "number1 = int(Firstnum)\n",
    "Secondnum = input(\" Second number: \")\n",
    "number2 = int(Secondnum)\n",
    "result = number1 * number2\n",
    "result"
   ]
  },
  {
   "cell_type": "markdown",
   "id": "57fa8ff4-b913-481d-a515-59b1e549668a",
   "metadata": {},
   "source": [
    "# Review Question 6"
   ]
  },
  {
   "cell_type": "code",
   "execution_count": 39,
   "id": "b01d8e7c-3dbf-43bd-9b8f-f073692c366b",
   "metadata": {},
   "outputs": [
    {
     "data": {
      "text/plain": [
       "-1"
      ]
     },
     "execution_count": 39,
     "metadata": {},
     "output_type": "execute_result"
    }
   ],
   "source": [
    "\"CCC\".find(\"c\")"
   ]
  },
  {
   "cell_type": "code",
   "execution_count": 47,
   "id": "7d18d65f-b9c9-4211-83fd-3b2d55077d32",
   "metadata": {},
   "outputs": [
    {
     "data": {
      "text/plain": [
       "'yomebody yaid yomething to yamantha'"
      ]
     },
     "execution_count": 47,
     "metadata": {},
     "output_type": "execute_result"
    }
   ],
   "source": [
    "string = \"Somebody said something to Samantha\"\n",
    "string3 = string.lower()\n",
    "string3.replace(\"s\",\"y\")"
   ]
  },
  {
   "cell_type": "code",
   "execution_count": 48,
   "id": "dcc79626-af88-4c26-bcce-d499676380ce",
   "metadata": {},
   "outputs": [
    {
     "name": "stdin",
     "output_type": "stream",
     "text": [
      "Input your name:  Jerick\n",
      "Input a letter:  i\n"
     ]
    },
    {
     "data": {
      "text/plain": [
       "3"
      ]
     },
     "execution_count": 48,
     "metadata": {},
     "output_type": "execute_result"
    }
   ],
   "source": [
    "string = input(\"Input your name: \")\n",
    "string.find(input(\"Input a letter: \"))"
   ]
  },
  {
   "cell_type": "markdown",
   "id": "26a3e62f-d8c0-419c-8159-4aab6918117d",
   "metadata": {},
   "source": [
    "# Review Question 7"
   ]
  },
  {
   "cell_type": "code",
   "execution_count": 49,
   "id": "1f0dc756-d67d-483e-a1ad-03c9e31eaf74",
   "metadata": {},
   "outputs": [
    {
     "name": "stdin",
     "output_type": "stream",
     "text": [
      "Input anything:  Serbise\n"
     ]
    },
    {
     "data": {
      "text/plain": [
       "'S3r8i53'"
      ]
     },
     "execution_count": 49,
     "metadata": {},
     "output_type": "execute_result"
    }
   ],
   "source": [
    "string = input(\"Input anything: \")\n",
    "string2 = string.replace(\"a\",\"4\")\n",
    "string3 = string2.replace(\"b\",\"8\")\n",
    "string4 = string3.replace(\"e\",\"3\")\n",
    "string5 = string4.replace(\"l\",\"1\")\n",
    "string6 = string5.replace(\"o\",\"0\")\n",
    "string7 = string6.replace(\"s\",\"5\")\n",
    "string8 = string7.replace(\"t\",\"7\")\n",
    "string8"
   ]
  },
  {
   "cell_type": "code",
   "execution_count": null,
   "id": "31450f0a-9f19-4472-8f2f-471bb4928e17",
   "metadata": {},
   "outputs": [],
   "source": []
  }
 ],
 "metadata": {
  "kernelspec": {
   "display_name": "Python [conda env:base] *",
   "language": "python",
   "name": "conda-base-py"
  },
  "language_info": {
   "codemirror_mode": {
    "name": "ipython",
    "version": 3
   },
   "file_extension": ".py",
   "mimetype": "text/x-python",
   "name": "python",
   "nbconvert_exporter": "python",
   "pygments_lexer": "ipython3",
   "version": "3.13.5"
  }
 },
 "nbformat": 4,
 "nbformat_minor": 5
}
