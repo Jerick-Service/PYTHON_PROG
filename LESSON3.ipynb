{
 "cells": [
  {
   "cell_type": "markdown",
   "id": "c5bd4494-95db-4b48-b3c3-74f67d1aad04",
   "metadata": {},
   "source": [
    "# Review Question 1"
   ]
  },
  {
   "cell_type": "code",
   "execution_count": 14,
   "id": "8e585629-2d1b-4a54-ad08-1e3987254f10",
   "metadata": {},
   "outputs": [
    {
     "name": "stdout",
     "output_type": "stream",
     "text": [
      "cube(2) = 8\n",
      "cube(5) = 125\n"
     ]
    }
   ],
   "source": [
    "def cube (number):\n",
    "    return number ** 3\n",
    "\n",
    "print (f\"cube(2) = {cube(2)}\")\n",
    "print (f\"cube(5) = {cube(5)}\")\n",
    "   "
   ]
  },
  {
   "cell_type": "code",
   "execution_count": 20,
   "id": "aea25e7d-7d54-4f05-8f74-f555b3e76ac0",
   "metadata": {},
   "outputs": [
    {
     "name": "stdout",
     "output_type": "stream",
     "text": [
      "Hello Lucy and jakes!\n"
     ]
    }
   ],
   "source": [
    "def greetings(name):\n",
    "    print(f\"Hello {name}!\")\n",
    "greet(\"Lucy and jakes\")\n"
   ]
  },
  {
   "cell_type": "markdown",
   "id": "f1686d3d-aca7-4eff-9899-747ad0f2d3f4",
   "metadata": {},
   "source": [
    "# Challenge"
   ]
  },
  {
   "cell_type": "code",
   "execution_count": 23,
   "id": "ac17e9da-f47c-46b4-9d2d-118013505c77",
   "metadata": {},
   "outputs": [
    {
     "name": "stdin",
     "output_type": "stream",
     "text": [
      "Enter temperature in Celsius:  22\n"
     ]
    },
    {
     "name": "stdout",
     "output_type": "stream",
     "text": [
      "22.0°C = 71.6°F\n"
     ]
    }
   ],
   "source": [
    "def convert_cel_to_far(celsius):\n",
    "    return celsius * 9/5 + 32\n",
    "\n",
    "c_input = float(input(\"Enter temperature in Celsius: \"))\n",
    "f_result = convert_cel_to_far(c_input)\n",
    "print(f\"{c_input}°C = {f_result}°F\")"
   ]
  },
  {
   "cell_type": "code",
   "execution_count": 27,
   "id": "d7fdd3dc-2b1e-4137-b470-1df63bcbc4b4",
   "metadata": {},
   "outputs": [
    {
     "name": "stdin",
     "output_type": "stream",
     "text": [
      "Enter temperature in Fahrenheit:  71.6\n"
     ]
    },
    {
     "name": "stdout",
     "output_type": "stream",
     "text": [
      "71.6°F =  22.00°C\n"
     ]
    }
   ],
   "source": [
    "def convert_far_to_cel(fahrenheit):\n",
    "    return (fahrenheit - 32) * 5/9\n",
    "f_input = float(input(\"Enter temperature in Fahrenheit: \"))\n",
    "c_result = convert_far_to_cel(f_input)\n",
    "print(f\"{f_input}°F = {c_result: .2f}°C\")\n",
    "    "
   ]
  },
  {
   "cell_type": "markdown",
   "id": "32f20f71-f5ea-4859-8f91-21ac810959eb",
   "metadata": {},
   "source": [
    "# Review Question 2"
   ]
  },
  {
   "cell_type": "code",
   "execution_count": 29,
   "id": "4623bd23-7338-4abc-862b-d6893ebc440a",
   "metadata": {},
   "outputs": [
    {
     "name": "stdout",
     "output_type": "stream",
     "text": [
      "1\n",
      "2\n",
      "3\n",
      "4\n",
      "5\n",
      "6\n",
      "7\n",
      "8\n",
      "9\n",
      "10\n"
     ]
    }
   ],
   "source": [
    "for n in range(1,11):\n",
    "    print(n)"
   ]
  },
  {
   "cell_type": "code",
   "execution_count": 31,
   "id": "d3e03a7e-d1b8-4287-9a96-74a566c51d90",
   "metadata": {},
   "outputs": [
    {
     "name": "stdout",
     "output_type": "stream",
     "text": [
      "1\n",
      "2\n",
      "3\n",
      "4\n",
      "5\n",
      "6\n",
      "7\n",
      "8\n",
      "9\n",
      "10\n",
      "11\n"
     ]
    }
   ],
   "source": [
    "n = 1\n",
    "while n <= 11:\n",
    "    print(n)\n",
    "    n = n + 1"
   ]
  },
  {
   "cell_type": "code",
   "execution_count": null,
   "id": "22cf3d9f-9aba-42d4-9832-32f9d6046383",
   "metadata": {},
   "outputs": [],
   "source": []
  }
 ],
 "metadata": {
  "kernelspec": {
   "display_name": "Python [conda env:base] *",
   "language": "python",
   "name": "conda-base-py"
  },
  "language_info": {
   "codemirror_mode": {
    "name": "ipython",
    "version": 3
   },
   "file_extension": ".py",
   "mimetype": "text/x-python",
   "name": "python",
   "nbconvert_exporter": "python",
   "pygments_lexer": "ipython3",
   "version": "3.13.5"
  }
 },
 "nbformat": 4,
 "nbformat_minor": 5
}
