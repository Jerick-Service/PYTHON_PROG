{
 "cells": [
  {
   "cell_type": "markdown",
   "id": "1bf190d7-280d-47e2-a54e-7186f25f5dae",
   "metadata": {},
   "source": [
    "# Q1. String Normalizer & Finder\n",
    "\n",
    "**Prompt**\n",
    "\n",
    "Write a Python function normalize_and_find(text, needle) that trims whitespace, makes it lowercase, and returns the index of the first occurrence of needle. If not found, return -1. Add a quick test"
   ]
  },
  {
   "cell_type": "markdown",
   "id": "c83a501e-b901-44a7-b65f-05b0b8e59861",
   "metadata": {},
   "source": [
    "**Chatgpt code**"
   ]
  },
  {
   "cell_type": "code",
   "execution_count": null,
   "id": "e6573bf3-339f-44d6-84ea-bdfe5ada1141",
   "metadata": {},
   "outputs": [],
   "source": [
    "def normalize_and_find(text, needle):\n",
    "    text = text.strip().lower()\n",
    "    needle = needle.lower()\n",
    "    return text.find(needle)\n",
    "\n",
    "print(normalize_and_find(\"  Hello World  \", \"world\"))"
   ]
  },
  {
   "cell_type": "markdown",
   "id": "4e286aca-dc3c-4d92-99ed-88fe37a65981",
   "metadata": {},
   "source": [
    "**Critique**\n",
    "\n",
    "Correctness: Works fine, gives right index or -1 when not found.\n",
    "\n",
    "Complexity: Time O(n), Space O(1), simple and efficient.\n",
    "\n",
    "Robustness: Handles spaces and case differences, but no input type checks.\n",
    "\n",
    "Readability: Code is short and clear, just missing a small docstring.\n",
    "\n",
    "Faithfulness: Uses .strip(), .lower(), .find() exactly like we learned."
   ]
  },
  {
   "cell_type": "markdown",
   "id": "3cae30bc-5ed5-432d-baec-acd011ee4b10",
   "metadata": {},
   "source": [
    "**Improve Code**"
   ]
  },
  {
   "cell_type": "code",
   "execution_count": 12,
   "id": "914cbe4f-6d91-4d7e-8d46-3396899cf166",
   "metadata": {},
   "outputs": [
    {
     "name": "stdout",
     "output_type": "stream",
     "text": [
      "6\n",
      "2\n",
      "-1\n"
     ]
    }
   ],
   "source": [
    "def normalize_and_find(text: str, needle: str) -> int:\n",
    "    \n",
    "    text = text.strip().lower()\n",
    "    needle = needle.lower()\n",
    "    return text.find(needle) if needle in text else -1\n",
    "\n",
    "print(normalize_and_find(\"  Hello World  \", \"world\"))  \n",
    "print(normalize_and_find(\"  Python  \", \"thon\"))        \n",
    "print(normalize_and_find(\"  Data  \", \"java\"))     "
   ]
  },
  {
   "cell_type": "markdown",
   "id": "ad17b01f-ec6e-4ba7-bd26-e8f2c52aa5b9",
   "metadata": {},
   "source": [
    "# Q2 — Leetspeak Translator (Parametric)\n",
    "\n",
    "**Prompt**\n",
    "\n",
    "Write a Python function translate(text, mapping) that changes lowercase letters using a given mapping (like {'a':'4','e':'3'}) but leaves other characters unchanged. Use list + join() for efficiency. Add a quick test."
   ]
  },
  {
   "cell_type": "markdown",
   "id": "86c4b223-b8c6-46a0-b07b-fb0a56833f3b",
   "metadata": {},
   "source": [
    "**ChatGPT Code**\n"
   ]
  },
  {
   "cell_type": "code",
   "execution_count": 13,
   "id": "7e423f65-1c87-4716-be21-83b19c8cfbc6",
   "metadata": {},
   "outputs": [
    {
     "name": "stdout",
     "output_type": "stream",
     "text": [
      "h3ll0 w0rld\n"
     ]
    }
   ],
   "source": [
    "def translate(text, mapping):\n",
    "    result = \"\"\n",
    "    for ch in text:\n",
    "        if ch in mapping:\n",
    "            result += mapping[ch]\n",
    "        else:\n",
    "            result += ch\n",
    "    return result\n",
    "\n",
    "leet = {'a': '4', 'e': '3', 'i': '1', 'o': '0', 's': '5'}\n",
    "print(translate(\"hello world\", leet))"
   ]
  },
  {
   "cell_type": "markdown",
   "id": "eba26788-22c4-4127-827d-7c84dd3cfb5d",
   "metadata": {},
   "source": [
    "**Critique**\n",
    "\n",
    "Correctness: Works fine and translates letters properly.\n",
    "\n",
    "Complexity: O(n) time, but repeated string += makes it slower.\n",
    "\n",
    "Robustness: Works on any string; doesn’t crash on missing keys.\n",
    "\n",
    "Readability: Easy to read, but could use better naming and comments.\n",
    "\n",
    "Faithfulness: Logic follows what we learned; only improvement is using list join for speed."
   ]
  },
  {
   "cell_type": "markdown",
   "id": "66231555-0b80-45de-a057-ab42c17eb18a",
   "metadata": {},
   "source": [
    "**Improved Code**\n"
   ]
  },
  {
   "cell_type": "code",
   "execution_count": 2,
   "id": "50000119-a195-4c58-8321-6d183b7e2a56",
   "metadata": {},
   "outputs": [
    {
     "name": "stdout",
     "output_type": "stream",
     "text": [
      "L34v3 b3h1nd\n",
      "Pyth0n 15 n0t 345y!\n"
     ]
    }
   ],
   "source": [
    "def translate(text: str, mapping: dict[str, str]) -> str:\n",
    "    chars = [mapping.get(ch, ch) for ch in text]\n",
    "    return ''.join(chars)\n",
    "\n",
    "leet = {'a': '4', 'e': '3', 'i': '1', 'o': '0', 's': '5'}\n",
    "\n",
    "\n",
    "print(translate(\"Leave behind\", leet))     \n",
    "print(translate(\"Python is not easy!\", leet)) "
   ]
  },
  {
   "cell_type": "markdown",
   "id": "8068affc-8fa0-4420-b34e-09370c30d3f3",
   "metadata": {},
   "source": [
    "# Q3 — Currency Formatter & Rounding (Ties-to-Even)"
   ]
  },
  {
   "cell_type": "markdown",
   "id": "729a60e0-9570-486b-a7e3-4ccc9c84b424",
   "metadata": {},
   "source": [
    "**Prompt**\n",
    "\n",
    "Write a Python function fmt_money(x) that prints money format like 1,234.50 using banker’s rounding (round(x, 2)) and test it with 2.5 and 3.5. Explain floating-point rounding briefly."
   ]
  },
  {
   "cell_type": "markdown",
   "id": "4162707a-489a-4afe-8f28-b798148e595d",
   "metadata": {},
   "source": [
    "**ChatGPT Code**"
   ]
  },
  {
   "cell_type": "code",
   "execution_count": null,
   "id": "1ff90418-c6d2-4402-aa24-2ed122cc50b9",
   "metadata": {},
   "outputs": [],
   "source": [
    "def fmt_money(x):\n",
    "    return f\"{round(x, 2):,.2f}\"\n",
    "\n",
    "print(fmt_money(1234.5))\n",
    "print(fmt_money(2.5))\n",
    "print(fmt_money(3.5))"
   ]
  },
  {
   "cell_type": "markdown",
   "id": "d1cf70f1-8530-4a69-b036-1904fcfebcd8",
   "metadata": {},
   "source": [
    "**Critique**\n",
    "\n",
    "Correctness: Works well and formats numbers properly with commas.\n",
    "\n",
    "Complexity: O(1) time and space — just formatting.\n",
    "\n",
    "Robustness: Handles floats and negatives fine; no type checking though.\n",
    "\n",
    "Readability: Very clear and compact; variable name good.\n",
    "\n",
    "Faithfulness: Uses round() and formatted strings just like in class."
   ]
  },
  {
   "cell_type": "markdown",
   "id": "c30e8fc9-46de-4bb8-944d-90f277f10e30",
   "metadata": {},
   "source": [
    "**Improved Code**"
   ]
  },
  {
   "cell_type": "code",
   "execution_count": 3,
   "id": "fbbcfad6-2831-4213-a139-98ff5fd1a9fc",
   "metadata": {},
   "outputs": [
    {
     "name": "stdout",
     "output_type": "stream",
     "text": [
      "1,234.50\n",
      "2.50\n",
      "3.50\n",
      "-1,234.57\n"
     ]
    }
   ],
   "source": [
    "def fmt_money(x: float) -> str:\n",
    "    val = round(x, 2)\n",
    "    return f\"{val:,.2f}\"\n",
    "\n",
    "print(fmt_money(1234.5))   \n",
    "print(fmt_money(2.5))      \n",
    "print(fmt_money(3.5))      \n",
    "print(fmt_money(-1234.567))"
   ]
  },
  {
   "cell_type": "markdown",
   "id": "04bef049-5bd3-48d2-b6a1-248f54065105",
   "metadata": {},
   "source": [
    "# Q4. Exponent Tool & Input Validation\n",
    "\n",
    "**Prompt**\n",
    "\n",
    "Write a Python program that reads two inputs, checks if they are numbers, and prints a ** b. Use try/except for errors. Also explain why isdigit() is not enough."
   ]
  },
  {
   "cell_type": "markdown",
   "id": "55723369-a0ba-4df6-b3ab-70c3f91d703a",
   "metadata": {},
   "source": [
    "**ChatGPT Code**"
   ]
  },
  {
   "cell_type": "code",
   "execution_count": 16,
   "id": "60379b35-2df6-4229-a0c5-104df6a7bad1",
   "metadata": {},
   "outputs": [
    {
     "name": "stdin",
     "output_type": "stream",
     "text": [
      "Enter base:  12\n",
      "Enter exponent:  2\n"
     ]
    },
    {
     "name": "stdout",
     "output_type": "stream",
     "text": [
      "12.0 ** 2.0 = 144.0\n"
     ]
    }
   ],
   "source": [
    "try:\n",
    "    a = float(input(\"Enter base: \"))\n",
    "    b = float(input(\"Enter exponent: \"))\n",
    "    print(f\"{a} ** {b} = {a ** b}\")\n",
    "except ValueError:\n",
    "    print(\"Error: Please enter valid numbers.\")"
   ]
  },
  {
   "cell_type": "markdown",
   "id": "3879416a-d4b8-44d4-9e0b-2f9f2bb451d0",
   "metadata": {},
   "source": [
    "**Critique**\n",
    "\n",
    "Correctness: Works fine for valid numbers, catches errors properly.\n",
    "\n",
    "Complexity: O(1) time and space — just two inputs and one calculation.\n",
    "\n",
    "Robustness: Handles invalid input but not empty ones or extreme values.\n",
    "\n",
    "Readability: Simple and clean; uses try/except properly.\n",
    "\n",
    "Faithfulness: Matches lecture on try/except and user input handling."
   ]
  },
  {
   "cell_type": "markdown",
   "id": "98f5b9e5-2ed4-4376-9ddb-0f22b87427da",
   "metadata": {},
   "source": [
    "**Improved Code**"
   ]
  },
  {
   "cell_type": "code",
   "execution_count": 5,
   "id": "516b3a74-d370-414d-9595-916423b31808",
   "metadata": {},
   "outputs": [],
   "source": [
    "def exponent_tool():\n",
    "    try:\n",
    "        a = float(input(\"Enter base: \"))\n",
    "        b = float(input(\"Enter exponent: \"))\n",
    "        print(f\"Result: {a} ** {b} = {a ** b}\")\n",
    "    except ValueError:\n",
    "        print(\"Invalid input! Please enter numbers only.\")\n",
    "    except Exception as e:\n",
    "        print(\"Unexpected error:\", e)"
   ]
  },
  {
   "cell_type": "markdown",
   "id": "53614a68-cb51-43ed-8cb8-301a89ab9efa",
   "metadata": {},
   "source": [
    "# Q5. Password Policy Checker (If/Elif/Else + Loops)\n",
    "\n",
    "**Prompt**\n",
    "\n",
    "Write a Python function that checks a password based on length, uppercase, lowercase, digit, symbol (!@#$%^&*), and no spaces. Return a dict of results and keep asking until valid."
   ]
  },
  {
   "cell_type": "markdown",
   "id": "09dd1c2e-6bb6-40d9-b9ab-5cf0232848f0",
   "metadata": {},
   "source": [
    "**ChatGPT Code**\n"
   ]
  },
  {
   "cell_type": "code",
   "execution_count": 6,
   "id": "3a8fe99d-af9d-4b19-b1c1-0c28425d2823",
   "metadata": {},
   "outputs": [
    {
     "name": "stdin",
     "output_type": "stream",
     "text": [
      "Enter password (Q to quit):  q\n"
     ]
    }
   ],
   "source": [
    "def check_password(pw):\n",
    "    rules = {\n",
    "        \"length\": len(pw) >= 10,\n",
    "        \"upper\": any(c.isupper() for c in pw),\n",
    "        \"lower\": any(c.islower() for c in pw),\n",
    "        \"digit\": any(c.isdigit() for c in pw),\n",
    "        \"symbol\": any(c in \"!@#$%^&*\" for c in pw),\n",
    "        \"no_space\": \" \" not in pw\n",
    "    }\n",
    "    rules[\"pass\"] = all(rules.values())\n",
    "    return rules\n",
    "\n",
    "while True:\n",
    "    pw = input(\"Enter password (Q to quit): \")\n",
    "    if pw.lower() == \"q\":\n",
    "        break\n",
    "    result = check_password(pw)\n",
    "    print(result)\n",
    "    if result[\"pass\"]:\n",
    "        print(\"Password accepted!\")\n",
    "        break\n",
    "    else:\n",
    "        print(\"Try again.\")"
   ]
  },
  {
   "cell_type": "markdown",
   "id": "ebe29217-8689-4b25-9e88-6f91112bc312",
   "metadata": {},
   "source": [
    "**Critique**\n",
    "\n",
    "Correctness: Checks all rules correctly and returns a full report.\n",
    "\n",
    "Complexity: O(n) time since it loops through password once, O(1) space.\n",
    "\n",
    "Robustness: Works with any string input; no crash cases.\n",
    "\n",
    "Readability: Easy to read; dictionary keys are clear and short.\n",
    "\n",
    "Faithfulness: Matches lecture logic using loops, any(), and conditions."
   ]
  },
  {
   "cell_type": "markdown",
   "id": "c4f1017d-97cc-4dd8-adac-2c0a1d2e7cee",
   "metadata": {},
   "source": [
    "**Improve Code**\n"
   ]
  },
  {
   "cell_type": "code",
   "execution_count": 20,
   "id": "6ebac597-85bf-49b8-9024-4b1d3579fb2c",
   "metadata": {},
   "outputs": [
    {
     "name": "stdin",
     "output_type": "stream",
     "text": [
      "Enter password (Q to quit):  Jerickrose69\n"
     ]
    },
    {
     "name": "stdout",
     "output_type": "stream",
     "text": [
      "{'length': True, 'upper': True, 'lower': True, 'digit': True, 'symbol': False, 'no_space': True, 'pass': False}\n",
      "Try again ❌\n"
     ]
    },
    {
     "name": "stdin",
     "output_type": "stream",
     "text": [
      "Enter password (Q to quit):  Jerickrose#69\n"
     ]
    },
    {
     "name": "stdout",
     "output_type": "stream",
     "text": [
      "{'length': True, 'upper': True, 'lower': True, 'digit': True, 'symbol': True, 'no_space': True, 'pass': True}\n",
      "Password accepted ✅\n"
     ]
    }
   ],
   "source": [
    "def check_password(pw: str) -> dict:\n",
    "    rules = {\n",
    "        \"length\": len(pw) >= 8,\n",
    "        \"upper\": any(c.isupper() for c in pw),\n",
    "        \"lower\": any(c.islower() for c in pw),\n",
    "        \"digit\": any(c.isdigit() for c in pw),\n",
    "        \"symbol\": any(c in \"!@#$%^&*\" for c in pw),\n",
    "        \"no_space\": \" \" not in pw\n",
    "    }\n",
    "    rules[\"pass\"] = all(rules.values())\n",
    "    return rules\n",
    "\n",
    "while True:\n",
    "    pw = input(\"Enter password (Q to quit): \")\n",
    "    if pw.lower() == \"q\":\n",
    "        print(\"Program ended.\")\n",
    "        break\n",
    "    result = check_password(pw)\n",
    "    print(result)\n",
    "    if result[\"pass\"]:\n",
    "        print(\"Password accepted ✅\")\n",
    "        break\n",
    "    else:\n",
    "        print(\"Try again ❌\")"
   ]
  },
  {
   "cell_type": "markdown",
   "id": "9ca96c7d-e101-47fa-9486-967a0018b0ca",
   "metadata": {},
   "source": [
    "# Q6. Dice Simulation (Monte Carlo)\n",
    "\n",
    "**Prompt**\n",
    "\n",
    "Write a Python function that rolls two dice n times, counts the totals using a dictionary, and shows which total appeared most. Use the random module."
   ]
  },
  {
   "cell_type": "markdown",
   "id": "4745d3ed-8b61-4e63-89bc-da0d5d3cb069",
   "metadata": {},
   "source": [
    "**ChatGPT Code**\n"
   ]
  },
  {
   "cell_type": "code",
   "execution_count": 23,
   "id": "fd11128a-041e-4d99-b5a2-03796353ee31",
   "metadata": {},
   "outputs": [
    {
     "name": "stdout",
     "output_type": "stream",
     "text": [
      "{2: 0, 3: 1, 4: 4, 5: 9, 6: 7, 7: 11, 8: 4, 9: 3, 10: 10, 11: 1, 12: 0}\n",
      "Most frequent total: 7\n"
     ]
    }
   ],
   "source": [
    "import random\n",
    "\n",
    "def simulate_dice(n):\n",
    "    counts = {i: 0 for i in range(2, 13)}\n",
    "    for _ in range(n):\n",
    "        roll = random.randint(1, 6) + random.randint(1, 6)\n",
    "        counts[roll] += 1\n",
    "    return counts\n",
    "\n",
    "results = simulate_dice(50)\n",
    "print(results)\n",
    "mode = max(results, key=results.get)\n",
    "print(\"Most frequent total:\", mode)"
   ]
  },
  {
   "cell_type": "markdown",
   "id": "8465d27d-7555-4d82-a366-c81911197618",
   "metadata": {},
   "source": [
    "**Critique**\n",
    "\n",
    "Correctness: Works fine; rolls dice and counts results correctly.\n",
    "\n",
    "Complexity: O(n) time, O(1) space (only 11 keys).\n",
    "\n",
    "Robustness: No input check for negative or zero n.\n",
    "\n",
    "Readability: Variable names are simple; uses dict comprehension neatly.\n",
    "\n",
    "Faithfulness: Matches lecture on loops, random, and dictionaries."
   ]
  },
  {
   "cell_type": "markdown",
   "id": "07e35943-dd54-47a2-9eb6-7eb12a4af9d6",
   "metadata": {},
   "source": [
    "**Improve Code**\n"
   ]
  },
  {
   "cell_type": "code",
   "execution_count": 7,
   "id": "3d251ab2-41bf-4f32-9cdd-b40fb8950d64",
   "metadata": {},
   "outputs": [
    {
     "name": "stdout",
     "output_type": "stream",
     "text": [
      "Results: {2: 0, 3: 0, 4: 0, 5: 2, 6: 0, 7: 2, 8: 1, 9: 0, 10: 2, 11: 3, 12: 0}\n",
      "Most frequent total: 11\n"
     ]
    }
   ],
   "source": [
    "import random\n",
    "\n",
    "def simulate_dice(n: int) -> dict:\n",
    "    if n <= 0:\n",
    "        print(\"Number of rolls must be positive.\")\n",
    "        return {}\n",
    "\n",
    "    counts = {i: 0 for i in range(2, 13)}\n",
    "    for _ in range(n):\n",
    "        roll = random.randint(1, 6) + random.randint(1, 6)\n",
    "        counts[roll] += 1\n",
    "\n",
    "    return counts\n",
    "\n",
    "n = 10\n",
    "results = simulate_dice(n)\n",
    "print(\"Results:\", results)\n",
    "\n",
    "mode = max(results, key=results.get)\n",
    "print(\"Most frequent total:\", mode)"
   ]
  },
  {
   "cell_type": "markdown",
   "id": "9001a7c0-76bf-4752-83f6-72b068852ae6",
   "metadata": {},
   "source": [
    "# Q7. OOP: Vehicles with Odometer and Fuel\n",
    "\n",
    "**Prompt**\n",
    "\n",
    "Write Python classes Vehicle, Car, and Truck with attributes color, mileage, and fuel_liters.\n",
    "Each can drive and refuel. Truck should override drive to use more fuel."
   ]
  },
  {
   "cell_type": "markdown",
   "id": "6c29ec74-ce25-45be-be5a-281509ba7482",
   "metadata": {},
   "source": [
    "**ChatGPT Code**\n"
   ]
  },
  {
   "cell_type": "code",
   "execution_count": null,
   "id": "94db93a9-06f6-41c1-b016-be53e6f5d50a",
   "metadata": {},
   "outputs": [],
   "source": [
    "class Vehicle:\n",
    "    def __init__(self, color, mileage, fuel_liters):\n",
    "        self.color = color\n",
    "        self.mileage = mileage\n",
    "        self.fuel_liters = fuel_liters\n",
    "\n",
    "    def drive(self, km, km_per_liter):\n",
    "        fuel_needed = km / km_per_liter\n",
    "        if fuel_needed <= self.fuel_liters:\n",
    "            self.mileage += km\n",
    "            self.fuel_liters -= fuel_needed\n",
    "        else:\n",
    "            print(\"Not enough fuel!\")\n",
    "\n",
    "    def refuel(self, liters):\n",
    "        self.fuel_liters += liters\n",
    "\n",
    "class Car(Vehicle):\n",
    "    pass\n",
    "\n",
    "class Truck(Vehicle):\n",
    "    def drive(self, km, km_per_liter):\n",
    "        fuel_needed = (km / km_per_liter) * 1.2  # trucks use 20% more fuel\n",
    "        if fuel_needed <= self.fuel_liters:\n",
    "            self.mileage += km\n",
    "            self.fuel_liters -= fuel_needed\n",
    "        else:\n",
    "            print(\"Not enough fuel!\")\n",
    "\n",
    "car = Car(\"red\", 10000, 40)\n",
    "truck = Truck(\"blue\", 5000, 80)\n",
    "\n",
    "car.drive(100, 10)\n",
    "truck.drive(100, 5)\n",
    "\n",
    "print(car.mileage, car.fuel_liters)\n",
    "print(truck.mileage, truck.fuel_liters)"
   ]
  },
  {
   "cell_type": "markdown",
   "id": "0255e4d8-05f7-496f-bd25-70d48ebcee1a",
   "metadata": {},
   "source": [
    "**Critique**\n",
    "\n",
    "Correctness: Works well; mileage and fuel update correctly.\n",
    "\n",
    "Complexity: O(1) time and space (simple math ops).\n",
    "\n",
    "Robustness: No input checks for negatives or zero fuel.\n",
    "\n",
    "Readability: Clean class names and short methods, but could use docstrings.\n",
    "\n",
    "Faithfulness: Matches our OOP lecture on inheritance and method override."
   ]
  },
  {
   "cell_type": "markdown",
   "id": "d044ee6c-77de-4e96-8e58-76693a1d8114",
   "metadata": {},
   "source": [
    "**Improved Code**"
   ]
  },
  {
   "cell_type": "code",
   "execution_count": 8,
   "id": "d05a6c04-d5d1-4c1f-b252-e8a72b4ef34f",
   "metadata": {},
   "outputs": [
    {
     "name": "stdout",
     "output_type": "stream",
     "text": [
      "Car -> mileage: 12100 | fuel left: 40.0\n",
      "Truck -> mileage: 8100 | fuel left: 76.0\n"
     ]
    }
   ],
   "source": [
    "class Vehicle:\n",
    "    def __init__(self, color: str, mileage: float, fuel_liters: float):\n",
    "        self.color = color\n",
    "        self.mileage = mileage\n",
    "        self.fuel_liters = fuel_liters\n",
    "\n",
    "    def drive(self, km: float, km_per_liter: float):\n",
    "        if km <= 0 or km_per_liter <= 0:\n",
    "            print(\"Invalid distance or efficiency.\")\n",
    "            return\n",
    "        fuel_needed = km / km_per_liter\n",
    "        if fuel_needed <= self.fuel_liters:\n",
    "            self.mileage += km\n",
    "            self.fuel_liters -= fuel_needed\n",
    "        else:\n",
    "            print(\"Not enough fuel!\")\n",
    "\n",
    "    def refuel(self, liters: float):\n",
    "        if liters > 0:\n",
    "            self.fuel_liters += liters\n",
    "        else:\n",
    "            print(\"Invalid fuel amount.\")\n",
    "\n",
    "class Car(Vehicle):\n",
    "    pass\n",
    "\n",
    "class Truck(Vehicle):\n",
    "    def drive(self, km: float, km_per_liter: float):\n",
    "        fuel_needed = (km / km_per_liter) * 1.2\n",
    "        if fuel_needed <= self.fuel_liters:\n",
    "            self.mileage += km\n",
    "            self.fuel_liters -= fuel_needed\n",
    "        else:\n",
    "            print(\"Not enough fuel!\")\n",
    "\n",
    "\n",
    "car = Car(\"Red\", 12000, 50)\n",
    "truck = Truck(\"Blue\", 8000, 100)\n",
    "\n",
    "car.drive(100, 10)\n",
    "truck.drive(100, 5)\n",
    "\n",
    "print(\"Car -> mileage:\", car.mileage, \"| fuel left:\", round(car.fuel_liters,2))\n",
    "print(\"Truck -> mileage:\", truck.mileage, \"| fuel left:\", round(truck.fuel_liters,2))"
   ]
  },
  {
   "cell_type": "markdown",
   "id": "0a195929-0f35-47d3-9e51-964d5d9e4818",
   "metadata": {},
   "source": [
    "# Q8. OOP + Composition: Kennel with Dogs\n",
    "\n",
    "**Promprt**\n",
    "\n",
    "Write Python classes Dog and Kennel.\n",
    "Kennel stores many Dog objects and can add, remove, find the oldest, and search by breed."
   ]
  },
  {
   "cell_type": "markdown",
   "id": "99e3eb67-01bf-41ae-81cb-bd4b2cb89d70",
   "metadata": {},
   "source": [
    "**ChatGPT Code**"
   ]
  },
  {
   "cell_type": "code",
   "execution_count": 28,
   "id": "a4e0f238-77ba-40b2-95bc-aa5a6bc11fb6",
   "metadata": {},
   "outputs": [
    {
     "name": "stdout",
     "output_type": "stream",
     "text": [
      "Max\n",
      "['Buddy', 'Charlie']\n",
      "Buddy says woof!\n"
     ]
    }
   ],
   "source": [
    "class Dog:\n",
    "    def __init__(self, name, age, breed):\n",
    "        self.name = name\n",
    "        self.age = age\n",
    "        self.breed = breed\n",
    "\n",
    "    def bark(self):\n",
    "        return f\"{self.name} says woof!\"\n",
    "\n",
    "class Kennel:\n",
    "    def __init__(self):\n",
    "        self.dogs = []\n",
    "\n",
    "    def add_dog(self, dog):\n",
    "        self.dogs.append(dog)\n",
    "\n",
    "    def remove_dog(self, name):\n",
    "        self.dogs = [d for d in self.dogs if d.name != name]\n",
    "\n",
    "    def oldest_dog(self):\n",
    "        if not self.dogs:\n",
    "            return None\n",
    "        return max(self.dogs, key=lambda d: d.age)\n",
    "\n",
    "    def find_by_breed(self, breed):\n",
    "        return [d for d in self.dogs if d.breed.lower() == breed.lower()]\n",
    "\n",
    "# test\n",
    "k = Kennel()\n",
    "k.add_dog(Dog(\"Buddy\", 3, \"Labrador\"))\n",
    "k.add_dog(Dog(\"Max\", 5, \"Beagle\"))\n",
    "k.add_dog(Dog(\"Charlie\", 2, \"Labrador\"))\n",
    "\n",
    "print(k.oldest_dog().name)\n",
    "print([d.name for d in k.find_by_breed(\"labrador\")])\n",
    "print(k.dogs[0].bark())"
   ]
  },
  {
   "cell_type": "markdown",
   "id": "a59a911a-4ea9-401a-b49f-f51a63427493",
   "metadata": {},
   "source": [
    "**Critique**\n",
    "\n",
    "Correctness: Works fine, all methods return right results.\n",
    "\n",
    "Complexity: O(n) for search and remove — okay for small list.\n",
    "\n",
    "Robustness: No checks if dog not found, but no crash.\n",
    "\n",
    "Readability: Clean code, good names, easy to read.\n",
    "\n",
    "Faithfulness: Matches what we learned on composition — Kennel has Dogs, not is a Dog."
   ]
  },
  {
   "cell_type": "markdown",
   "id": "e83731b6-8039-4e0c-9de3-be3765ed71e8",
   "metadata": {},
   "source": [
    "**Improved Code**"
   ]
  },
  {
   "cell_type": "code",
   "execution_count": 9,
   "id": "0c29ad48-db32-4b62-a389-3bea1fe378dd",
   "metadata": {},
   "outputs": [
    {
     "name": "stdout",
     "output_type": "stream",
     "text": [
      "Oldest Dog: Max\n",
      "Labradors: ['Buddy', 'Charlie']\n",
      "Buddy says woof!\n"
     ]
    }
   ],
   "source": [
    "class Dog:\n",
    "    def __init__(self, name: str, age: int, breed: str):\n",
    "        self.name = name\n",
    "        self.age = age\n",
    "        self.breed = breed\n",
    "\n",
    "    def bark(self) -> str:\n",
    "        return f\"{self.name} says woof!\"\n",
    "\n",
    "class Kennel:\n",
    "    def __init__(self):\n",
    "        self.dogs = []\n",
    "\n",
    "    def add_dog(self, dog: Dog):\n",
    "        if isinstance(dog, Dog):\n",
    "            self.dogs.append(dog)\n",
    "        else:\n",
    "            print(\"Only Dog objects allowed.\")\n",
    "\n",
    "    def remove_dog(self, name: str):\n",
    "        self.dogs = [d for d in self.dogs if d.name.lower() != name.lower()]\n",
    "\n",
    "    def oldest_dog(self):\n",
    "        return max(self.dogs, key=lambda d: d.age, default=None)\n",
    "\n",
    "    def find_by_breed(self, breed: str):\n",
    "        return [d for d in self.dogs if d.breed.lower() == breed.lower()]\n",
    "\n",
    "kennel = Kennel()\n",
    "kennel.add_dog(Dog(\"Buddy\", 3, \"Labrador\"))\n",
    "kennel.add_dog(Dog(\"Max\", 5, \"Beagle\"))\n",
    "kennel.add_dog(Dog(\"Charlie\", 2, \"Labrador\"))\n",
    "\n",
    "print(\"Oldest Dog:\", kennel.oldest_dog().name)\n",
    "print(\"Labradors:\", [d.name for d in kennel.find_by_breed(\"labrador\")])\n",
    "print(kennel.dogs[0].bark())"
   ]
  },
  {
   "cell_type": "markdown",
   "id": "3c3ec2d1-7b4d-4cdd-bf28-5f009c4ff347",
   "metadata": {},
   "source": [
    "# Q9. Modules and Packages: Helpers"
   ]
  },
  {
   "cell_type": "markdown",
   "id": "2af12863-ad7b-4134-b31c-4a82cf45def9",
   "metadata": {},
   "source": [
    "**Prompt**\n",
    "\n",
    "Make a folder called helpers with two modules:\n",
    "\n",
    "string_utils.py → has shout(s)\n",
    "\n",
    "math_utils.py → has area(l, w)\n",
    "Then create main.py that imports and tests them using alias and direct import."
   ]
  },
  {
   "cell_type": "markdown",
   "id": "b2db5161-e59a-4797-b332-7cc5ad7da1e2",
   "metadata": {},
   "source": [
    "**ChatGPT Code**"
   ]
  },
  {
   "cell_type": "code",
   "execution_count": null,
   "id": "6a73f9a6-93a3-4620-a79a-9dbe53cb7b19",
   "metadata": {},
   "outputs": [],
   "source": [
    "def shout(s):\n",
    "    return s.upper()\n",
    "\n",
    "# helpers/math_utils.py\n",
    "def area(l, w):\n",
    "    return l * w\n",
    "\n",
    "# main.py\n",
    "import helpers.string_utils as su\n",
    "from helpers.math_utils import area\n",
    "\n",
    "print(su.shout(\"hello world\"))\n",
    "print(area(5, 3))"
   ]
  },
  {
   "cell_type": "markdown",
   "id": "fe225c0c-b86e-4879-b442-e11370392697",
   "metadata": {},
   "source": [
    "**Critique**\n",
    "\n",
    "Correctness: Works fine; functions run correctly.\n",
    "\n",
    "Complexity: Both are O(1), very light.\n",
    "\n",
    "Robustness: No type checks but okay for simple task.\n",
    "\n",
    "Readability: Clear, short, and easy to follow.\n",
    "\n",
    "Faithfulness: Matches what we did in class on imports and aliasing."
   ]
  },
  {
   "cell_type": "markdown",
   "id": "27097f7d-7d50-4af1-abf2-38b5ba65cbea",
   "metadata": {},
   "source": [
    "**Improved Code**"
   ]
  },
  {
   "cell_type": "code",
   "execution_count": 11,
   "id": "c2f37825-af6e-468a-a3cb-81cc4a7c02e1",
   "metadata": {},
   "outputs": [],
   "source": [
    "def shout(s: str) -> str:\n",
    "    \"\"\"Return text in uppercase.\"\"\"\n",
    "    return s.upper()"
   ]
  },
  {
   "cell_type": "code",
   "execution_count": 12,
   "id": "d6e0db0f-1d60-4271-92a6-ca46f4e22cb7",
   "metadata": {},
   "outputs": [],
   "source": [
    "def area(l: float, w: float) -> float:\n",
    "    \"\"\"Return area of a rectangle.\"\"\"\n",
    "    return l * w"
   ]
  },
  {
   "cell_type": "code",
   "execution_count": null,
   "id": "250acb18-5888-456b-b294-ce6ba29e53d3",
   "metadata": {},
   "outputs": [],
   "source": [
    "import helpers.string_utils as su\n",
    "from helpers.math_utils import area\n",
    "\n",
    "def main():\n",
    "    print(su.shout(\"hello from helpers!\"))\n",
    "    print(\"Area:\", area(5, 3))\n",
    "\n",
    "if __name__ == \"__main__\":\n",
    "    main()"
   ]
  },
  {
   "cell_type": "markdown",
   "id": "1da54026-8ec9-4ff8-8b5f-c3b05d64eed9",
   "metadata": {},
   "source": [
    "# Q10. Robust Temperature Converter (Functions + Exceptions)\n",
    "\n",
    "**Prompt**\n",
    "\n",
    "Write Python functions to convert Celsius to Fahrenheit and vice versa.\n",
    "Add a CLI that asks which conversion, handles invalid input, and includes simple tests."
   ]
  },
  {
   "cell_type": "markdown",
   "id": "d3dea2ca-e545-4994-8f6f-5a15d4d3d487",
   "metadata": {},
   "source": [
    "**ChatGPT Code**"
   ]
  },
  {
   "cell_type": "code",
   "execution_count": null,
   "id": "da7a1541-fd4d-4569-97a8-9a5ca49a2364",
   "metadata": {},
   "outputs": [],
   "source": [
    "def cel_to_far(c):\n",
    "    return (c * 9/5) + 32\n",
    "\n",
    "def far_to_cel(f):\n",
    "    return (f - 32) * 5/9\n",
    "\n",
    "while True:\n",
    "    choice = input(\"Convert Celsius to Fahrenheit (C) or Fahrenheit to Celsius (F)? Q to quit: \").upper()\n",
    "    if choice == \"Q\":\n",
    "        break\n",
    "    temp = input(\"Enter temperature: \")\n",
    "    try:\n",
    "        temp = float(temp)\n",
    "        if choice == \"C\":\n",
    "            print(\"Fahrenheit:\", cel_to_far(temp))\n",
    "        elif choice == \"F\":\n",
    "            print(\"Celsius:\", far_to_cel(temp))\n",
    "        else:\n",
    "            print(\"Invalid choice\")\n",
    "    except ValueError:\n",
    "        print(\"Enter a valid number!\")"
   ]
  },
  {
   "cell_type": "markdown",
   "id": "3cc49ff2-e60e-42b4-b804-459847a118a5",
   "metadata": {},
   "source": [
    "**Critique**\n",
    "\n",
    "Correctness: Works fine, converts temperatures correctly.\n",
    "\n",
    "Complexity: Each conversion is O(1) time and O(1) space — constant operations.\n",
    "\n",
    "Robustness: Handles invalid input with try/except; menu choice validation works.\n",
    "\n",
    "Readability: Easy to read; could add comments or docstrings.\n",
    "\n",
    "Faithfulness: Follows lecture on functions and exceptions."
   ]
  },
  {
   "cell_type": "markdown",
   "id": "ce404a1a-ff9c-4e66-b6f7-8a6dd68ee257",
   "metadata": {},
   "source": [
    "**Improved Code**"
   ]
  },
  {
   "cell_type": "code",
   "execution_count": null,
   "id": "d9e05f89-aa4c-49c7-8ef1-abf88d9bc569",
   "metadata": {},
   "outputs": [],
   "source": [
    "def cel_to_far(c: float) -> float:\n",
    "    return (c * 9/5) + 32\n",
    "\n",
    "def far_to_cel(f: float) -> float:\n",
    "    return (f - 32) * 5/9\n",
    "\n",
    "def main():\n",
    "    while True:\n",
    "        choice = input(\"Convert Celsius to Fahrenheit (C) or Fahrenheit to Celsius (F)? Q to quit: \").upper()\n",
    "        if choice == \"Q\":\n",
    "            print(\"Goodbye!\")\n",
    "            break\n",
    "        temp_input = input(\"Enter temperature: \")\n",
    "        try:\n",
    "            temp = float(temp_input)\n",
    "            if choice == \"C\":\n",
    "                print(f\"{temp}°C -> {cel_to_far(temp):.2f}°F\")\n",
    "            elif choice == \"F\":\n",
    "                print(f\"{temp}°F -> {far_to_cel(temp):.2f}°C\")\n",
    "            else:\n",
    "                print(\"Invalid choice! Type C, F, or Q.\")\n",
    "        except ValueError:\n",
    "            print(\"Enter a valid number!\")\n",
    "\n",
    "\n",
    "assert round(cel_to_far(0), 2) == 32.00\n",
    "assert round(far_to_cel(32), 2) == 0.00\n",
    "assert round(cel_to_far(100), 2) == 212.00\n",
    "assert round(far_to_cel(212), 2) == 100.00\n",
    "\n",
    "if __name__ == \"__main__\":\n",
    "    main()"
   ]
  },
  {
   "cell_type": "code",
   "execution_count": null,
   "id": "df8bd4aa-1642-4054-ab59-36b6f383b297",
   "metadata": {},
   "outputs": [],
   "source": []
  }
 ],
 "metadata": {
  "kernelspec": {
   "display_name": "Python [conda env:base] *",
   "language": "python",
   "name": "conda-base-py"
  },
  "language_info": {
   "codemirror_mode": {
    "name": "ipython",
    "version": 3
   },
   "file_extension": ".py",
   "mimetype": "text/x-python",
   "name": "python",
   "nbconvert_exporter": "python",
   "pygments_lexer": "ipython3",
   "version": "3.13.5"
  }
 },
 "nbformat": 4,
 "nbformat_minor": 5
}
