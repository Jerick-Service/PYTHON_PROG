{
 "cells": [
  {
   "cell_type": "markdown",
   "id": "840661d6-5518-483a-9fa8-7ef68bcac555",
   "metadata": {},
   "source": [
    "# Review exercise 1"
   ]
  },
  {
   "cell_type": "code",
   "execution_count": 2,
   "id": "3d5ddd85-6441-4465-95c0-d33280453e7a",
   "metadata": {},
   "outputs": [],
   "source": [
    "cardinal_numbers = (\"first\", \"second\", \"third\")\n"
   ]
  },
  {
   "cell_type": "code",
   "execution_count": 3,
   "id": "5ec1d3a7-e9ac-4058-bcd3-8c6769952527",
   "metadata": {},
   "outputs": [
    {
     "name": "stdout",
     "output_type": "stream",
     "text": [
      "second\n"
     ]
    }
   ],
   "source": [
    "print(cardinal_numbers[1])"
   ]
  },
  {
   "cell_type": "code",
   "execution_count": 4,
   "id": "cc14e3a5-7b99-431b-bd4b-07a51ad8203f",
   "metadata": {},
   "outputs": [
    {
     "name": "stdout",
     "output_type": "stream",
     "text": [
      "first\n",
      "second\n",
      "third\n"
     ]
    }
   ],
   "source": [
    "position1, position2, position3 = cardinal_numbers\n",
    "print(position1)\n",
    "print(position2)\n",
    "print(position3)"
   ]
  },
  {
   "cell_type": "code",
   "execution_count": 5,
   "id": "48d52e49-0857-4cc7-8d08-c44d0bb258e9",
   "metadata": {},
   "outputs": [],
   "source": [
    "my_name = tuple(\"Jerick\")"
   ]
  },
  {
   "cell_type": "code",
   "execution_count": 6,
   "id": "dbc9b901-91fd-4f37-b95d-e429ece7f9ff",
   "metadata": {},
   "outputs": [
    {
     "name": "stdout",
     "output_type": "stream",
     "text": [
      "False\n"
     ]
    }
   ],
   "source": [
    "print(\"X\" in my_name)"
   ]
  },
  {
   "cell_type": "code",
   "execution_count": 9,
   "id": "5f1a9f5c-900a-4269-8392-8ecad53c6759",
   "metadata": {},
   "outputs": [
    {
     "name": "stdout",
     "output_type": "stream",
     "text": [
      "('e', 'r', 'i', 'c', 'k')\n"
     ]
    }
   ],
   "source": [
    "new_tuple = my_name[1:]\n",
    "print(new_tuple)"
   ]
  },
  {
   "cell_type": "markdown",
   "id": "d6bb7c82-a011-444a-a9ab-3a1875c29b59",
   "metadata": {},
   "source": [
    "# Review Question 2"
   ]
  },
  {
   "cell_type": "code",
   "execution_count": 10,
   "id": "2476fccd-00b0-4943-880b-7017a58e3059",
   "metadata": {},
   "outputs": [],
   "source": [
    "food = [\"rice\", \"beans\"]"
   ]
  },
  {
   "cell_type": "code",
   "execution_count": 11,
   "id": "ff270695-de81-4918-829c-d0b31370ab17",
   "metadata": {},
   "outputs": [],
   "source": [
    "food.append(\"broccoli\")"
   ]
  },
  {
   "cell_type": "code",
   "execution_count": 12,
   "id": "0d076a3f-a0b4-4770-9c5d-579de0dac200",
   "metadata": {},
   "outputs": [],
   "source": [
    "food.extend([\"bread\", \"pizza\"])"
   ]
  },
  {
   "cell_type": "code",
   "execution_count": 13,
   "id": "f55f0f48-dd22-4798-9386-e821bcc6b40c",
   "metadata": {},
   "outputs": [
    {
     "name": "stdout",
     "output_type": "stream",
     "text": [
      "['rice', 'beans']\n"
     ]
    }
   ],
   "source": [
    "print(food[:2])"
   ]
  },
  {
   "cell_type": "code",
   "execution_count": 14,
   "id": "5f110379-142f-4368-a870-b899d773acc6",
   "metadata": {},
   "outputs": [
    {
     "name": "stdout",
     "output_type": "stream",
     "text": [
      "pizza\n"
     ]
    }
   ],
   "source": [
    "print(food[-1])"
   ]
  },
  {
   "cell_type": "code",
   "execution_count": 15,
   "id": "ded2981e-4774-48aa-a2fd-d7b05477b14d",
   "metadata": {},
   "outputs": [],
   "source": [
    "breakfast = \"eggs, fruit, orange juice\".split(\", \")"
   ]
  },
  {
   "cell_type": "code",
   "execution_count": 16,
   "id": "05525b65-3c70-4ba2-bcdf-5a56c4dfaa6c",
   "metadata": {},
   "outputs": [
    {
     "name": "stdout",
     "output_type": "stream",
     "text": [
      "3\n"
     ]
    }
   ],
   "source": [
    "print(len(breakfast))"
   ]
  },
  {
   "cell_type": "code",
   "execution_count": 17,
   "id": "c646cffc-e2a8-4a73-afa4-4b5a81731d1b",
   "metadata": {},
   "outputs": [
    {
     "name": "stdout",
     "output_type": "stream",
     "text": [
      "[4, 5, 12]\n"
     ]
    }
   ],
   "source": [
    "lengths = [len(item) for item in breakfast]\n",
    "print(lengths)"
   ]
  },
  {
   "cell_type": "markdown",
   "id": "2eafb353-a25b-49dc-b8fc-3c8ab8167b53",
   "metadata": {},
   "source": [
    "# Review Question 3"
   ]
  },
  {
   "cell_type": "code",
   "execution_count": 18,
   "id": "8bd056d3-f76d-4e39-882d-9b1fbbc89188",
   "metadata": {},
   "outputs": [],
   "source": [
    "data = ((1, 2), (3, 4))"
   ]
  },
  {
   "cell_type": "code",
   "execution_count": 19,
   "id": "d12e393a-ff3e-4689-896f-1fb227f14c96",
   "metadata": {},
   "outputs": [
    {
     "name": "stdout",
     "output_type": "stream",
     "text": [
      "Row 1 sum: 3\n",
      "Row 2 sum: 7\n"
     ]
    }
   ],
   "source": [
    "row = 1\n",
    "for x in data:\n",
    "    print(\"Row\", row, \"sum:\", sum(x))\n",
    "    row = row + 1"
   ]
  },
  {
   "cell_type": "code",
   "execution_count": 20,
   "id": "96a180c3-2dea-401b-9228-197a4445db45",
   "metadata": {},
   "outputs": [],
   "source": [
    "numbers = [5, 2, 9, 1, 7]"
   ]
  },
  {
   "cell_type": "code",
   "execution_count": 21,
   "id": "40546ebb-1986-411f-a5df-a2ae38820386",
   "metadata": {},
   "outputs": [
    {
     "name": "stdout",
     "output_type": "stream",
     "text": [
      "Copy of list: [5, 2, 9, 1, 7]\n"
     ]
    }
   ],
   "source": [
    "numbers_copy = numbers[:]\n",
    "print(\"Copy of list:\", numbers_copy)"
   ]
  },
  {
   "cell_type": "code",
   "execution_count": 22,
   "id": "f0c2ad3f-8dd7-4f42-868b-f17bc95a226e",
   "metadata": {},
   "outputs": [
    {
     "name": "stdout",
     "output_type": "stream",
     "text": [
      "Sorted list: [1, 2, 5, 7, 9]\n"
     ]
    }
   ],
   "source": [
    "numbers.sort()\n",
    "print(\"Sorted list:\", numbers)"
   ]
  },
  {
   "cell_type": "markdown",
   "id": "f5b866e7-1fb1-4d50-9379-d3e1171e1995",
   "metadata": {},
   "source": [
    "# Challenge"
   ]
  },
  {
   "cell_type": "code",
   "execution_count": 23,
   "id": "2fe2b9e4-6db0-446b-8f73-c118309adccf",
   "metadata": {},
   "outputs": [],
   "source": [
    "universities = [\n",
    "    ['California Institute of Technology', 2175, 377041],\n",
    "    ['Harvard', 19627, 39849],\n",
    "    ['Massachusetts Institute of Technology', 10566, 40732],\n",
    "    ['Princeton', 7802, 370000],\n",
    "    ['Rice', 5879, 355511],\n",
    "    ['Stanford', 19535, 40569],\n",
    "    ['Yale', 11701, 40500]\n",
    "]\n"
   ]
  },
  {
   "cell_type": "code",
   "execution_count": 24,
   "id": "cc7c9a9a-fa4d-4eae-a4e2-f39e330d322f",
   "metadata": {},
   "outputs": [
    {
     "name": "stdout",
     "output_type": "stream",
     "text": [
      "University: California Institute of Technology\n",
      "ID: 2175\n",
      "Code: 377041\n",
      "\n",
      "University: Harvard\n",
      "ID: 19627\n",
      "Code: 39849\n",
      "\n",
      "University: Massachusetts Institute of Technology\n",
      "ID: 10566\n",
      "Code: 40732\n",
      "\n",
      "University: Princeton\n",
      "ID: 7802\n",
      "Code: 370000\n",
      "\n",
      "University: Rice\n",
      "ID: 5879\n",
      "Code: 355511\n",
      "\n",
      "University: Stanford\n",
      "ID: 19535\n",
      "Code: 40569\n",
      "\n",
      "University: Yale\n",
      "ID: 11701\n",
      "Code: 40500\n",
      "\n"
     ]
    }
   ],
   "source": [
    "for uni in universities:\n",
    "    print(\"University:\", uni[0])\n",
    "    print(\"ID:\", uni[1])\n",
    "    print(\"Code:\", uni[2])\n",
    "    print() "
   ]
  },
  {
   "cell_type": "markdown",
   "id": "560274f7-ac47-4e5b-805b-c6942573c0fc",
   "metadata": {},
   "source": [
    "# Review Question 4\n"
   ]
  },
  {
   "cell_type": "code",
   "execution_count": 25,
   "id": "74c311d9-1486-4e96-8533-db0b86c82fb6",
   "metadata": {},
   "outputs": [],
   "source": [
    "captains = {}"
   ]
  },
  {
   "cell_type": "code",
   "execution_count": 26,
   "id": "44c329ca-bc58-40b2-8113-5b0410adf4e3",
   "metadata": {},
   "outputs": [],
   "source": [
    "captains['Enterprise'] = 'Picard'\n",
    "captains['Voyager'] = 'Janeway'\n",
    "captains['Defiant'] = 'Sisko'"
   ]
  },
  {
   "cell_type": "code",
   "execution_count": 27,
   "id": "9ef0c1ef-b40b-4473-a887-b1245d4883d3",
   "metadata": {},
   "outputs": [],
   "source": [
    "if 'Enterprise' not in captains:\n",
    "    captains['Enterprise'] = 'Unknown'\n",
    "if 'Discovery' not in captains:\n",
    "    captains['Discovery'] = 'Unknown'"
   ]
  },
  {
   "cell_type": "code",
   "execution_count": 28,
   "id": "3372585d-9047-4f72-9a3a-75fc67f6f7f6",
   "metadata": {},
   "outputs": [
    {
     "name": "stdout",
     "output_type": "stream",
     "text": [
      "The Enterprise is captained by Picard.\n",
      "The Voyager is captained by Janeway.\n",
      "The Defiant is captained by Sisko.\n",
      "The Discovery is captained by Unknown.\n"
     ]
    }
   ],
   "source": [
    "for ship, captain in captains.items():\n",
    "    print(\"The\", ship, \"is captained by\", captain + \".\")"
   ]
  },
  {
   "cell_type": "code",
   "execution_count": 29,
   "id": "9189e48e-a52b-4334-9464-cd67aa83686f",
   "metadata": {},
   "outputs": [
    {
     "name": "stdout",
     "output_type": "stream",
     "text": [
      "\n",
      "After deleting Discovery:\n",
      "{'Enterprise': 'Picard', 'Voyager': 'Janeway', 'Defiant': 'Sisko'}\n"
     ]
    }
   ],
   "source": [
    "del captains['Discovery']\n",
    "\n",
    "print(\"\\nAfter deleting Discovery:\")\n",
    "print(captains)"
   ]
  },
  {
   "cell_type": "code",
   "execution_count": 30,
   "id": "5b66d457-4324-4153-b4d0-593a7e52d93c",
   "metadata": {},
   "outputs": [
    {
     "name": "stdout",
     "output_type": "stream",
     "text": [
      "\n",
      "Using dict():\n",
      "{'Enterprise': 'Picard', 'Voyager': 'Janeway', 'Defiant': 'Sisko'}\n"
     ]
    }
   ],
   "source": [
    "captains2 = dict(Enterprise='Picard', Voyager='Janeway', Defiant='Sisko')\n",
    "print(\"\\nUsing dict():\")\n",
    "print(captains2)"
   ]
  },
  {
   "cell_type": "code",
   "execution_count": null,
   "id": "e6ee2103-81b4-418f-8a5e-20e0545018a8",
   "metadata": {},
   "outputs": [],
   "source": []
  }
 ],
 "metadata": {
  "kernelspec": {
   "display_name": "Python [conda env:base] *",
   "language": "python",
   "name": "conda-base-py"
  },
  "language_info": {
   "codemirror_mode": {
    "name": "ipython",
    "version": 3
   },
   "file_extension": ".py",
   "mimetype": "text/x-python",
   "name": "python",
   "nbconvert_exporter": "python",
   "pygments_lexer": "ipython3",
   "version": "3.13.5"
  }
 },
 "nbformat": 4,
 "nbformat_minor": 5
}
