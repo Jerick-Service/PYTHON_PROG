{
 "cells": [
  {
   "cell_type": "markdown",
   "id": "aa13b3e8-ae44-4d0e-96fa-aa09ab49926c",
   "metadata": {},
   "source": []
  },
  {
   "cell_type": "markdown",
   "id": "457467e8-faf4-4180-871a-e319f7459fb0",
   "metadata": {},
   "source": [
    "# 1st Long Exam September 10, 2025\n",
    "\n",
    "\n"
   ]
  },
  {
   "cell_type": "markdown",
   "id": "ce664654-8ad0-4241-b31d-f2d0835bf6f5",
   "metadata": {},
   "source": [
    "# JERICK SERVICE  ID:23753338"
   ]
  },
  {
   "cell_type": "code",
   "execution_count": 1,
   "id": "89ed8b39-bc9b-444b-88e9-680754099fa4",
   "metadata": {},
   "outputs": [
    {
     "name": "stdin",
     "output_type": "stream",
     "text": [
      "Enter a name : jerick\n"
     ]
    },
    {
     "name": "stdout",
     "output_type": "stream",
     "text": [
      "hello jerick\n"
     ]
    }
   ],
   "source": [
    "name = input(\"Enter a name :\")\n",
    "print (\"hello\"+\" \"+ name)"
   ]
  },
  {
   "cell_type": "code",
   "execution_count": 2,
   "id": "e81c0584-b2e9-4481-952f-817604316856",
   "metadata": {},
   "outputs": [
    {
     "ename": "IndentationError",
     "evalue": "unexpected indent (2090722096.py, line 2)",
     "output_type": "error",
     "traceback": [
      "\u001b[1;36m  Cell \u001b[1;32mIn[2], line 2\u001b[1;36m\u001b[0m\n\u001b[1;33m    answer = num (num+1)/2\u001b[0m\n\u001b[1;37m    ^\u001b[0m\n\u001b[1;31mIndentationError\u001b[0m\u001b[1;31m:\u001b[0m unexpected indent\n"
     ]
    }
   ],
   "source": [
    "num = int(input(\"Enter a number :\"))\n",
    "    answer = num (num+1)/2\n",
    "    print(answer)"
   ]
  },
  {
   "cell_type": "code",
   "execution_count": 3,
   "id": "a86761ef-3759-4f71-a4e1-89e7fc42893d",
   "metadata": {},
   "outputs": [
    {
     "ename": "SyntaxError",
     "evalue": "expected ':' (4294902404.py, line 4)",
     "output_type": "error",
     "traceback": [
      "\u001b[1;36m  Cell \u001b[1;32mIn[3], line 4\u001b[1;36m\u001b[0m\n\u001b[1;33m    if{vowels}\u001b[0m\n\u001b[1;37m              ^\u001b[0m\n\u001b[1;31mSyntaxError\u001b[0m\u001b[1;31m:\u001b[0m expected ':'\n"
     ]
    }
   ],
   "source": [
    "vowels = 'a,e,i,o,u'\n",
    "letter ='y'\n",
    "alphabet = char(input(\"Enter a letter\"))\n",
    "if{vowels}\n",
    "  print(\"you entered a vowel\")\n",
    "else if {letter}\n",
    "  print(\"Sometimes vowel , sometimes consonant\")\n",
    "{else}\n",
    "  print(\"it is a consonant\")"
   ]
  },
  {
   "cell_type": "code",
   "execution_count": null,
   "id": "397ee6bf-0803-4f68-9ba1-09c1e912fe61",
   "metadata": {},
   "outputs": [],
   "source": []
  }
 ],
 "metadata": {
  "kernelspec": {
   "display_name": "Python 3 (ipykernel)",
   "language": "python",
   "name": "python3"
  },
  "language_info": {
   "codemirror_mode": {
    "name": "ipython",
    "version": 3
   },
   "file_extension": ".py",
   "mimetype": "text/x-python",
   "name": "python",
   "nbconvert_exporter": "python",
   "pygments_lexer": "ipython3",
   "version": "3.13.5"
  }
 },
 "nbformat": 4,
 "nbformat_minor": 5
}
