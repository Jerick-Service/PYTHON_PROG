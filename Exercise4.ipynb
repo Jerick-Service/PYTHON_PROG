{
 "cells": [
  {
   "cell_type": "markdown",
   "id": "6a1d3b34-3512-46ea-b3f0-0e9eaac499a3",
   "metadata": {},
   "source": [
    "# Review Question 1"
   ]
  },
  {
   "cell_type": "code",
   "execution_count": 10,
   "id": "63af3aee-f6dd-4912-9586-19885d39dc56",
   "metadata": {},
   "outputs": [
    {
     "name": "stdin",
     "output_type": "stream",
     "text": [
      "Enter a word:  ikoysss\n"
     ]
    },
    {
     "name": "stdout",
     "output_type": "stream",
     "text": [
      "The Word is more than 5 words\n"
     ]
    }
   ],
   "source": [
    "word = input(\"Enter a word: \")\n",
    "\n",
    "if len(word) < 5:\n",
    "    print(\"The Word is less than 5 words\")\n",
    "elif len(word) > 5:\n",
    "    print(\"The Word is more than 5 words\")\n",
    "else : \n",
    "    print(\"the word is exactly 5\")"
   ]
  },
  {
   "cell_type": "markdown",
   "id": "a6bda721-7886-4ed4-9ed6-41552622a56f",
   "metadata": {},
   "source": [
    "# Review Question 2"
   ]
  },
  {
   "cell_type": "code",
   "execution_count": 12,
   "id": "abbb79e1-ba33-48cc-9cee-cdaaa13c2693",
   "metadata": {},
   "outputs": [
    {
     "name": "stdin",
     "output_type": "stream",
     "text": [
      "Enter something (Q to quit):  my name is ikoy\n"
     ]
    },
    {
     "name": "stdout",
     "output_type": "stream",
     "text": [
      "You entered: my name is ikoy\n"
     ]
    },
    {
     "name": "stdin",
     "output_type": "stream",
     "text": [
      "Enter something (Q to quit):  im 13 years old\n"
     ]
    },
    {
     "name": "stdout",
     "output_type": "stream",
     "text": [
      "You entered: im 13 years old\n"
     ]
    },
    {
     "name": "stdin",
     "output_type": "stream",
     "text": [
      "Enter something (Q to quit):  i live in oprra kalunasan\n"
     ]
    },
    {
     "name": "stdout",
     "output_type": "stream",
     "text": [
      "You entered: i live in oprra kalunasan\n"
     ]
    },
    {
     "name": "stdin",
     "output_type": "stream",
     "text": [
      "Enter something (Q to quit):  thankyou\n"
     ]
    },
    {
     "name": "stdout",
     "output_type": "stream",
     "text": [
      "You entered: thankyou\n"
     ]
    },
    {
     "name": "stdin",
     "output_type": "stream",
     "text": [
      "Enter something (Q to quit):  Q\n"
     ]
    },
    {
     "name": "stdout",
     "output_type": "stream",
     "text": [
      "Program ended.\n"
     ]
    }
   ],
   "source": [
    "while True:\n",
    "    word = input(\"Enter something (Q to quit): \")\n",
    "\n",
    "    if word == \"Q\" or word == \"q\":\n",
    "        print(\"Program ended.\")\n",
    "        break\n",
    "    else:\n",
    "        print(\"You entered:\", word)"
   ]
  },
  {
   "cell_type": "code",
   "execution_count": 14,
   "id": "bb34ed4b-216d-4650-8c12-4d03429386d8",
   "metadata": {},
   "outputs": [
    {
     "name": "stdout",
     "output_type": "stream",
     "text": [
      "1\n",
      "2\n",
      "4\n",
      "5\n",
      "7\n",
      "8\n",
      "10\n",
      "11\n",
      "13\n",
      "14\n"
     ]
    }
   ],
   "source": [
    "for i in range(1, 15):\n",
    "    if i % 3 == 0:\n",
    "        continue\n",
    "    print(i)"
   ]
  },
  {
   "cell_type": "markdown",
   "id": "375ed624-404a-4c53-8e74-dc1d551a4efe",
   "metadata": {},
   "source": [
    "# Review Question 3"
   ]
  },
  {
   "cell_type": "code",
   "execution_count": 17,
   "id": "5f701c1e-f88a-4f52-a5eb-13a32d039066",
   "metadata": {},
   "outputs": [
    {
     "name": "stdin",
     "output_type": "stream",
     "text": [
      "number:  dasd\n"
     ]
    },
    {
     "name": "stdout",
     "output_type": "stream",
     "text": [
      "try again\n"
     ]
    },
    {
     "name": "stdin",
     "output_type": "stream",
     "text": [
      "number:  123\n"
     ]
    },
    {
     "name": "stdout",
     "output_type": "stream",
     "text": [
      "ok: 123\n"
     ]
    }
   ],
   "source": [
    "while True:\n",
    "    try:\n",
    "        x = int(input(\"number: \"))\n",
    "        print(\"ok:\", x)\n",
    "        break\n",
    "    except:\n",
    "        print(\"try again\")"
   ]
  },
  {
   "cell_type": "code",
   "execution_count": 20,
   "id": "95b45541-b99f-45a1-b837-62d28bb7f568",
   "metadata": {},
   "outputs": [
    {
     "name": "stdin",
     "output_type": "stream",
     "text": [
      "str:  astronomy\n",
      "n:  4\n"
     ]
    },
    {
     "name": "stdout",
     "output_type": "stream",
     "text": [
      "char: o\n"
     ]
    }
   ],
   "source": [
    "s = input(\"str: \")\n",
    "n = int(input(\"n: \"))\n",
    "print(\"char:\", s[n])"
   ]
  },
  {
   "cell_type": "markdown",
   "id": "112ec2f2-bddd-43af-8ccc-052feb22fbbf",
   "metadata": {},
   "source": [
    "# Review Question 4"
   ]
  },
  {
   "cell_type": "code",
   "execution_count": 24,
   "id": "0d82a3ce-2a34-4bc4-928e-d71b92073743",
   "metadata": {},
   "outputs": [
    {
     "name": "stdout",
     "output_type": "stream",
     "text": [
      "3\n"
     ]
    }
   ],
   "source": [
    "import random\n",
    "\n",
    "def roll():\n",
    "    return random.randint(1,6)\n",
    "\n",
    "print(roll())"
   ]
  },
  {
   "cell_type": "code",
   "execution_count": 26,
   "id": "7afb52ea-e919-4880-90de-32e029583d2c",
   "metadata": {},
   "outputs": [
    {
     "name": "stdout",
     "output_type": "stream",
     "text": [
      "3.5321\n"
     ]
    }
   ],
   "source": [
    "import random\n",
    "\n",
    "s = 0\n",
    "for i in range(10000):\n",
    "    s += random.randint(1,6)\n",
    "print(s/10000)"
   ]
  },
  {
   "cell_type": "code",
   "execution_count": null,
   "id": "2fb46930-d7fe-4f06-853a-0a092c174302",
   "metadata": {},
   "outputs": [],
   "source": []
  },
  {
   "cell_type": "code",
   "execution_count": null,
   "id": "f5bb652f-4af4-489c-8c45-bcd3d5a2610b",
   "metadata": {},
   "outputs": [],
   "source": []
  }
 ],
 "metadata": {
  "kernelspec": {
   "display_name": "Python [conda env:base] *",
   "language": "python",
   "name": "conda-base-py"
  },
  "language_info": {
   "codemirror_mode": {
    "name": "ipython",
    "version": 3
   },
   "file_extension": ".py",
   "mimetype": "text/x-python",
   "name": "python",
   "nbconvert_exporter": "python",
   "pygments_lexer": "ipython3",
   "version": "3.13.5"
  }
 },
 "nbformat": 4,
 "nbformat_minor": 5
}
